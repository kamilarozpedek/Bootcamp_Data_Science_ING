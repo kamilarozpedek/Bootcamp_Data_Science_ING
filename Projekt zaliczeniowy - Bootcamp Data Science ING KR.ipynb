{
 "cells": [
  {
   "cell_type": "markdown",
   "metadata": {},
   "source": [
    "# Projekt zaliczeniowy - Bootcamp Data Science ING"
   ]
  },
  {
   "cell_type": "markdown",
   "metadata": {},
   "source": [
    "### Autor: Kamila Rozpędek"
   ]
  },
  {
   "cell_type": "markdown",
   "metadata": {},
   "source": [
    "### Temat 2 - Przewidywanie udzielenia pożyczki. "
   ]
  },
  {
   "cell_type": "markdown",
   "metadata": {},
   "source": [
    "Celem projektu jest zastosowanie modeli klasyfikacji (binarnej) do\n",
    "przewidzenia czy pożyczka zostanie udzielona danemu klientowi z danymi parametrami wniosku."
   ]
  },
  {
   "cell_type": "code",
   "execution_count": 1,
   "metadata": {},
   "outputs": [],
   "source": [
    "#Import bibliotek:\n",
    "import pandas as pd\n",
    "import numpy as np\n",
    "from datetime import datetime\n",
    "import matplotlib.pyplot as plt\n",
    "import math\n",
    "from sklearn import metrics\n",
    "from sklearn.model_selection import train_test_split\n",
    "from sklearn.pipeline import Pipeline\n",
    "from sklearn.preprocessing import OneHotEncoder\n",
    "from sklearn.model_selection import StratifiedKFold\n",
    "from sklearn.pipeline import Pipeline\n",
    "from sklearn.model_selection import GridSearchCV\n",
    "from sklearn.preprocessing import StandardScaler\n",
    "\n",
    "from sklearn.tree import DecisionTreeClassifier\n",
    "from sklearn.linear_model import LogisticRegression\n",
    "from sklearn.ensemble import RandomForestClassifier\n",
    "from sklearn.ensemble import BaggingClassifier\n",
    "from sklearn.ensemble import AdaBoostClassifier\n",
    "from sklearn.ensemble import GradientBoostingClassifier\n",
    "from sklearn.neighbors import KNeighborsClassifier\n",
    "import xgboost\n",
    "from xgboost import XGBClassifier"
   ]
  },
  {
   "cell_type": "code",
   "execution_count": 2,
   "metadata": {},
   "outputs": [],
   "source": [
    "#Załadowanie danych\n",
    "location = 'https://raw.githubusercontent.com/saimadhu-polamuri/DataHakthon3X/master/dataSet/Train.csv'\n",
    "data=pd.read_csv(location, parse_dates=['DOB', 'Lead_Creation_Date'], encoding='cp1250')"
   ]
  },
  {
   "cell_type": "code",
   "execution_count": 3,
   "metadata": {},
   "outputs": [],
   "source": [
    "#Inna możliwość załadowania danych - z dysku\n",
    "#location = r'Train.csv'\n",
    "#data = pd.read_csv(location, parse_dates=['DOB', 'Lead_Creation_Date'], encoding='cp1250')"
   ]
  },
  {
   "cell_type": "code",
   "execution_count": 4,
   "metadata": {},
   "outputs": [
    {
     "data": {
      "text/html": [
       "<div>\n",
       "<style scoped>\n",
       "    .dataframe tbody tr th:only-of-type {\n",
       "        vertical-align: middle;\n",
       "    }\n",
       "\n",
       "    .dataframe tbody tr th {\n",
       "        vertical-align: top;\n",
       "    }\n",
       "\n",
       "    .dataframe thead th {\n",
       "        text-align: right;\n",
       "    }\n",
       "</style>\n",
       "<table border=\"1\" class=\"dataframe\">\n",
       "  <thead>\n",
       "    <tr style=\"text-align: right;\">\n",
       "      <th></th>\n",
       "      <th>ID</th>\n",
       "      <th>Gender</th>\n",
       "      <th>City</th>\n",
       "      <th>Monthly_Income</th>\n",
       "      <th>DOB</th>\n",
       "      <th>Lead_Creation_Date</th>\n",
       "      <th>Loan_Amount_Applied</th>\n",
       "      <th>Loan_Tenure_Applied</th>\n",
       "      <th>Existing_EMI</th>\n",
       "      <th>Employer_Name</th>\n",
       "      <th>...</th>\n",
       "      <th>Interest_Rate</th>\n",
       "      <th>Processing_Fee</th>\n",
       "      <th>EMI_Loan_Submitted</th>\n",
       "      <th>Filled_Form</th>\n",
       "      <th>Device_Type</th>\n",
       "      <th>Var2</th>\n",
       "      <th>Source</th>\n",
       "      <th>Var4</th>\n",
       "      <th>LoggedIn</th>\n",
       "      <th>Disbursed</th>\n",
       "    </tr>\n",
       "  </thead>\n",
       "  <tbody>\n",
       "    <tr>\n",
       "      <th>0</th>\n",
       "      <td>ID000002C20</td>\n",
       "      <td>Female</td>\n",
       "      <td>Delhi</td>\n",
       "      <td>20000</td>\n",
       "      <td>1978-05-23</td>\n",
       "      <td>2015-05-15</td>\n",
       "      <td>300000.0</td>\n",
       "      <td>5.0</td>\n",
       "      <td>0.0</td>\n",
       "      <td>CYBOSOL</td>\n",
       "      <td>...</td>\n",
       "      <td>NaN</td>\n",
       "      <td>NaN</td>\n",
       "      <td>NaN</td>\n",
       "      <td>N</td>\n",
       "      <td>Web-browser</td>\n",
       "      <td>G</td>\n",
       "      <td>S122</td>\n",
       "      <td>1</td>\n",
       "      <td>0</td>\n",
       "      <td>0</td>\n",
       "    </tr>\n",
       "    <tr>\n",
       "      <th>1</th>\n",
       "      <td>ID000004E40</td>\n",
       "      <td>Male</td>\n",
       "      <td>Mumbai</td>\n",
       "      <td>35000</td>\n",
       "      <td>1985-10-07</td>\n",
       "      <td>2015-05-04</td>\n",
       "      <td>200000.0</td>\n",
       "      <td>2.0</td>\n",
       "      <td>0.0</td>\n",
       "      <td>TATA CONSULTANCY SERVICES LTD (TCS)</td>\n",
       "      <td>...</td>\n",
       "      <td>13.25</td>\n",
       "      <td>NaN</td>\n",
       "      <td>6762.9</td>\n",
       "      <td>N</td>\n",
       "      <td>Web-browser</td>\n",
       "      <td>G</td>\n",
       "      <td>S122</td>\n",
       "      <td>3</td>\n",
       "      <td>0</td>\n",
       "      <td>0</td>\n",
       "    </tr>\n",
       "    <tr>\n",
       "      <th>2</th>\n",
       "      <td>ID000007H20</td>\n",
       "      <td>Male</td>\n",
       "      <td>Panchkula</td>\n",
       "      <td>22500</td>\n",
       "      <td>1981-10-10</td>\n",
       "      <td>2015-05-19</td>\n",
       "      <td>600000.0</td>\n",
       "      <td>4.0</td>\n",
       "      <td>0.0</td>\n",
       "      <td>ALCHEMIST HOSPITALS LTD</td>\n",
       "      <td>...</td>\n",
       "      <td>NaN</td>\n",
       "      <td>NaN</td>\n",
       "      <td>NaN</td>\n",
       "      <td>N</td>\n",
       "      <td>Web-browser</td>\n",
       "      <td>B</td>\n",
       "      <td>S143</td>\n",
       "      <td>1</td>\n",
       "      <td>0</td>\n",
       "      <td>0</td>\n",
       "    </tr>\n",
       "    <tr>\n",
       "      <th>3</th>\n",
       "      <td>ID000008I30</td>\n",
       "      <td>Male</td>\n",
       "      <td>Saharsa</td>\n",
       "      <td>35000</td>\n",
       "      <td>1987-11-30</td>\n",
       "      <td>2015-05-09</td>\n",
       "      <td>1000000.0</td>\n",
       "      <td>5.0</td>\n",
       "      <td>0.0</td>\n",
       "      <td>BIHAR GOVERNMENT</td>\n",
       "      <td>...</td>\n",
       "      <td>NaN</td>\n",
       "      <td>NaN</td>\n",
       "      <td>NaN</td>\n",
       "      <td>N</td>\n",
       "      <td>Web-browser</td>\n",
       "      <td>B</td>\n",
       "      <td>S143</td>\n",
       "      <td>3</td>\n",
       "      <td>0</td>\n",
       "      <td>0</td>\n",
       "    </tr>\n",
       "    <tr>\n",
       "      <th>4</th>\n",
       "      <td>ID000009J40</td>\n",
       "      <td>Male</td>\n",
       "      <td>Bengaluru</td>\n",
       "      <td>100000</td>\n",
       "      <td>1984-02-17</td>\n",
       "      <td>2015-05-20</td>\n",
       "      <td>500000.0</td>\n",
       "      <td>2.0</td>\n",
       "      <td>25000.0</td>\n",
       "      <td>GLOBAL EDGE SOFTWARE</td>\n",
       "      <td>...</td>\n",
       "      <td>NaN</td>\n",
       "      <td>NaN</td>\n",
       "      <td>NaN</td>\n",
       "      <td>N</td>\n",
       "      <td>Web-browser</td>\n",
       "      <td>B</td>\n",
       "      <td>S134</td>\n",
       "      <td>3</td>\n",
       "      <td>1</td>\n",
       "      <td>0</td>\n",
       "    </tr>\n",
       "  </tbody>\n",
       "</table>\n",
       "<p>5 rows × 26 columns</p>\n",
       "</div>"
      ],
      "text/plain": [
       "            ID  Gender       City  Monthly_Income        DOB  \\\n",
       "0  ID000002C20  Female      Delhi           20000 1978-05-23   \n",
       "1  ID000004E40    Male     Mumbai           35000 1985-10-07   \n",
       "2  ID000007H20    Male  Panchkula           22500 1981-10-10   \n",
       "3  ID000008I30    Male    Saharsa           35000 1987-11-30   \n",
       "4  ID000009J40    Male  Bengaluru          100000 1984-02-17   \n",
       "\n",
       "  Lead_Creation_Date  Loan_Amount_Applied  Loan_Tenure_Applied  Existing_EMI  \\\n",
       "0         2015-05-15             300000.0                  5.0           0.0   \n",
       "1         2015-05-04             200000.0                  2.0           0.0   \n",
       "2         2015-05-19             600000.0                  4.0           0.0   \n",
       "3         2015-05-09            1000000.0                  5.0           0.0   \n",
       "4         2015-05-20             500000.0                  2.0       25000.0   \n",
       "\n",
       "                         Employer_Name  ... Interest_Rate Processing_Fee  \\\n",
       "0                              CYBOSOL  ...           NaN            NaN   \n",
       "1  TATA CONSULTANCY SERVICES LTD (TCS)  ...         13.25            NaN   \n",
       "2              ALCHEMIST HOSPITALS LTD  ...           NaN            NaN   \n",
       "3                     BIHAR GOVERNMENT  ...           NaN            NaN   \n",
       "4                 GLOBAL EDGE SOFTWARE  ...           NaN            NaN   \n",
       "\n",
       "   EMI_Loan_Submitted Filled_Form  Device_Type  Var2  Source  Var4  LoggedIn  \\\n",
       "0                 NaN           N  Web-browser     G    S122     1         0   \n",
       "1              6762.9           N  Web-browser     G    S122     3         0   \n",
       "2                 NaN           N  Web-browser     B    S143     1         0   \n",
       "3                 NaN           N  Web-browser     B    S143     3         0   \n",
       "4                 NaN           N  Web-browser     B    S134     3         1   \n",
       "\n",
       "  Disbursed  \n",
       "0         0  \n",
       "1         0  \n",
       "2         0  \n",
       "3         0  \n",
       "4         0  \n",
       "\n",
       "[5 rows x 26 columns]"
      ]
     },
     "execution_count": 4,
     "metadata": {},
     "output_type": "execute_result"
    }
   ],
   "source": [
    "data.head(5)"
   ]
  },
  {
   "cell_type": "code",
   "execution_count": 5,
   "metadata": {},
   "outputs": [],
   "source": [
    "#Usunięcie kolumn nie biorących udziału w modelowaniu\n",
    "data=data.drop(columns=[\"ID\", \"LoggedIn\"])"
   ]
  },
  {
   "cell_type": "code",
   "execution_count": 6,
   "metadata": {},
   "outputs": [
    {
     "data": {
      "text/plain": [
       "0    85747\n",
       "1     1273\n",
       "Name: Disbursed, dtype: int64"
      ]
     },
     "execution_count": 6,
     "metadata": {},
     "output_type": "execute_result"
    }
   ],
   "source": [
    "#Zmienna celu - spawdzenie wartości\n",
    "data[\"Disbursed\"].value_counts()"
   ]
  },
  {
   "cell_type": "code",
   "execution_count": 7,
   "metadata": {},
   "outputs": [
    {
     "name": "stdout",
     "output_type": "stream",
     "text": [
      "<class 'pandas.core.frame.DataFrame'>\n",
      "RangeIndex: 87020 entries, 0 to 87019\n",
      "Data columns (total 24 columns):\n",
      " #   Column                 Non-Null Count  Dtype         \n",
      "---  ------                 --------------  -----         \n",
      " 0   Gender                 87020 non-null  object        \n",
      " 1   City                   86017 non-null  object        \n",
      " 2   Monthly_Income         87020 non-null  int64         \n",
      " 3   DOB                    87020 non-null  datetime64[ns]\n",
      " 4   Lead_Creation_Date     87020 non-null  datetime64[ns]\n",
      " 5   Loan_Amount_Applied    86949 non-null  float64       \n",
      " 6   Loan_Tenure_Applied    86949 non-null  float64       \n",
      " 7   Existing_EMI           86949 non-null  float64       \n",
      " 8   Employer_Name          86949 non-null  object        \n",
      " 9   Salary_Account         75256 non-null  object        \n",
      " 10  Mobile_Verified        87020 non-null  object        \n",
      " 11  Var5                   87020 non-null  int64         \n",
      " 12  Var1                   87020 non-null  object        \n",
      " 13  Loan_Amount_Submitted  52407 non-null  float64       \n",
      " 14  Loan_Tenure_Submitted  52407 non-null  float64       \n",
      " 15  Interest_Rate          27726 non-null  float64       \n",
      " 16  Processing_Fee         27420 non-null  float64       \n",
      " 17  EMI_Loan_Submitted     27726 non-null  float64       \n",
      " 18  Filled_Form            87020 non-null  object        \n",
      " 19  Device_Type            87020 non-null  object        \n",
      " 20  Var2                   87020 non-null  object        \n",
      " 21  Source                 87020 non-null  object        \n",
      " 22  Var4                   87020 non-null  int64         \n",
      " 23  Disbursed              87020 non-null  int64         \n",
      "dtypes: datetime64[ns](2), float64(8), int64(4), object(10)\n",
      "memory usage: 15.9+ MB\n"
     ]
    }
   ],
   "source": [
    "#Podstawowe informacje o danych\n",
    "data.info()"
   ]
  },
  {
   "cell_type": "markdown",
   "metadata": {},
   "source": [
    "W zbiorze występują dwie daty. Zmienna DOB (data urodzenia) zostanie przerobiona na zmienną \"age\" wnioskującego przy wykorzystaniu zmiennej \"Lead_Creation_Date\". Następnie obie zmienne zostaną usunięte.\n",
    "\n",
    "Zbiór posiada następujące zmienne jakościowe (opisowe lub pokateryzowane): Gender, City, Employer_Name, Salary_Account, Mobile_Verified, Var1 (Categorical variable with multiple levels), Filled_Form, Device_Type, Var2 (Categorical variable with multiple levels), Source, Var4 (Categorical Variable with multiple Levels), Var5 (Continuous classified variable). Zostaną one przebadane, w razie potrzeby przekształcone, a następnie przekodowane na zmienne dummy.\n",
    "\n",
    "Pozostałe zmienne to zmienne ciągłe - zostaną dokładnie przebadane i odpowiednio przekształcone."
   ]
  },
  {
   "cell_type": "markdown",
   "metadata": {},
   "source": [
    "#### Daty - przygotowanie"
   ]
  },
  {
   "cell_type": "code",
   "execution_count": 8,
   "metadata": {},
   "outputs": [
    {
     "name": "stdout",
     "output_type": "stream",
     "text": [
      "2015-07-31 00:00:00\n",
      "2015-05-01 00:00:00\n",
      "------------------\n",
      "1971-01-01 00:00:00\n",
      "2070-12-31 00:00:00\n"
     ]
    }
   ],
   "source": [
    "print(data[\"Lead_Creation_Date\"].max())\n",
    "print(data[\"Lead_Creation_Date\"].min())\n",
    "print(\"------------------\")\n",
    "print(data[\"DOB\"].min())\n",
    "print(data[\"DOB\"].max())"
   ]
  },
  {
   "cell_type": "code",
   "execution_count": 9,
   "metadata": {},
   "outputs": [],
   "source": [
    "#Stworzenie zmiennej wiek:\n",
    "data[\"creation\"]=data[\"Lead_Creation_Date\"].dt.year\n",
    "data[\"birth\"]=data[\"DOB\"].dt.year\n",
    "\n",
    "data[\"age\"] = data[\"creation\"] - data[\"birth\"]      "
   ]
  },
  {
   "cell_type": "code",
   "execution_count": 10,
   "metadata": {},
   "outputs": [
    {
     "name": "stdout",
     "output_type": "stream",
     "text": [
      "-55\n",
      "44\n"
     ]
    },
    {
     "data": {
      "image/png": "[encoded data removed]",
      "text/plain": [
       "<Figure size 432x288 with 1 Axes>"
      ]
     },
     "metadata": {
      "needs_background": "light"
     },
     "output_type": "display_data"
    }
   ],
   "source": [
    "#Sprawdzenie wartości zmiennej wiek\n",
    "print(data[\"age\"].min())\n",
    "print(data[\"age\"].max())\n",
    "\n",
    "#Histogram dla zmiennej wiek\n",
    "plt.hist(data[\"age\"], bins=20)\n",
    "plt.show()"
   ]
  },
  {
   "cell_type": "markdown",
   "metadata": {},
   "source": [
    "Zmienna DOB zawiera niepoprawne dane (DOB późniejsza niż Lead Creation date). Wygląda na to, że przez pomyłke lata przed 1971 rokiem zostały wprowadzone jako analogiczne data po 2000 roku - np. zamiast 1961 mamy 2061). Po stworzeniu zmiennej \"age\" wszystkie przypadki, gdzie wnioskujący będzie mieć ujemny wiek zostaną skorygowane (dodane do nich zostanie 100)."
   ]
  },
  {
   "cell_type": "code",
   "execution_count": 11,
   "metadata": {},
   "outputs": [],
   "source": [
    "#Nadpisanie wieku dla obserwacji, gdze wartość zmiennej jest niepoprawna\n",
    "query_age= (data[\"age\"] < 0)\n",
    "data.loc[query_age, \"age\"] = data[\"age\"]+100"
   ]
  },
  {
   "cell_type": "code",
   "execution_count": 12,
   "metadata": {},
   "outputs": [
    {
     "name": "stdout",
     "output_type": "stream",
     "text": [
      "0\n",
      "86\n"
     ]
    },
    {
     "data": {
      "image/png": "[encoded data removed]",
      "text/plain": [
       "<Figure size 432x288 with 1 Axes>"
      ]
     },
     "metadata": {
      "needs_background": "light"
     },
     "output_type": "display_data"
    }
   ],
   "source": [
    "#Sprawdzenie wyniku nadpisania na wykresie\n",
    "print(data[\"age\"].min())\n",
    "print(data[\"age\"].max())\n",
    "\n",
    "plt.hist(data[\"age\"], bins=20)\n",
    "plt.show()"
   ]
  },
  {
   "cell_type": "code",
   "execution_count": 13,
   "metadata": {},
   "outputs": [],
   "source": [
    "#data[\"age\"].value_counts().head(60)"
   ]
  },
  {
   "cell_type": "markdown",
   "metadata": {},
   "source": [
    "Jest 17 przypadków wartości 0 - będzie ona potraktowana jako brak i wypełniona medianą"
   ]
  },
  {
   "cell_type": "code",
   "execution_count": 14,
   "metadata": {},
   "outputs": [
    {
     "name": "stdout",
     "output_type": "stream",
     "text": [
      "18.0\n",
      "86.0\n"
     ]
    }
   ],
   "source": [
    "#Wyliczenie mediany wieku\n",
    "data2=data[data[\"age\"] > 0]\n",
    "median_age=data2[\"age\"].median()\n",
    "\n",
    "#Ndpisanie 0\n",
    "query_age2= (data[\"age\"] == 0)\n",
    "data.loc[query_age2, \"age\"] = median_age\n",
    "\n",
    "print(data[\"age\"].min())\n",
    "print(data[\"age\"].max())"
   ]
  },
  {
   "cell_type": "code",
   "execution_count": 15,
   "metadata": {},
   "outputs": [],
   "source": [
    "#Usunięcie niepotrzebnych kolumn z danych (daty)\n",
    "data=data.drop(columns=[\"Lead_Creation_Date\", \"DOB\", \"creation\", \"birth\"])"
   ]
  },
  {
   "cell_type": "code",
   "execution_count": 16,
   "metadata": {},
   "outputs": [
    {
     "data": {
      "text/html": [
       "<div>\n",
       "<style scoped>\n",
       "    .dataframe tbody tr th:only-of-type {\n",
       "        vertical-align: middle;\n",
       "    }\n",
       "\n",
       "    .dataframe tbody tr th {\n",
       "        vertical-align: top;\n",
       "    }\n",
       "\n",
       "    .dataframe thead th {\n",
       "        text-align: right;\n",
       "    }\n",
       "</style>\n",
       "<table border=\"1\" class=\"dataframe\">\n",
       "  <thead>\n",
       "    <tr style=\"text-align: right;\">\n",
       "      <th></th>\n",
       "      <th>Gender</th>\n",
       "      <th>City</th>\n",
       "      <th>Monthly_Income</th>\n",
       "      <th>Loan_Amount_Applied</th>\n",
       "      <th>Loan_Tenure_Applied</th>\n",
       "      <th>Existing_EMI</th>\n",
       "      <th>Employer_Name</th>\n",
       "      <th>Salary_Account</th>\n",
       "      <th>Mobile_Verified</th>\n",
       "      <th>Var5</th>\n",
       "      <th>...</th>\n",
       "      <th>Interest_Rate</th>\n",
       "      <th>Processing_Fee</th>\n",
       "      <th>EMI_Loan_Submitted</th>\n",
       "      <th>Filled_Form</th>\n",
       "      <th>Device_Type</th>\n",
       "      <th>Var2</th>\n",
       "      <th>Source</th>\n",
       "      <th>Var4</th>\n",
       "      <th>Disbursed</th>\n",
       "      <th>age</th>\n",
       "    </tr>\n",
       "  </thead>\n",
       "  <tbody>\n",
       "    <tr>\n",
       "      <th>0</th>\n",
       "      <td>Female</td>\n",
       "      <td>Delhi</td>\n",
       "      <td>20000</td>\n",
       "      <td>300000.0</td>\n",
       "      <td>5.0</td>\n",
       "      <td>0.0</td>\n",
       "      <td>CYBOSOL</td>\n",
       "      <td>HDFC Bank</td>\n",
       "      <td>N</td>\n",
       "      <td>0</td>\n",
       "      <td>...</td>\n",
       "      <td>NaN</td>\n",
       "      <td>NaN</td>\n",
       "      <td>NaN</td>\n",
       "      <td>N</td>\n",
       "      <td>Web-browser</td>\n",
       "      <td>G</td>\n",
       "      <td>S122</td>\n",
       "      <td>1</td>\n",
       "      <td>0</td>\n",
       "      <td>37.0</td>\n",
       "    </tr>\n",
       "    <tr>\n",
       "      <th>1</th>\n",
       "      <td>Male</td>\n",
       "      <td>Mumbai</td>\n",
       "      <td>35000</td>\n",
       "      <td>200000.0</td>\n",
       "      <td>2.0</td>\n",
       "      <td>0.0</td>\n",
       "      <td>TATA CONSULTANCY SERVICES LTD (TCS)</td>\n",
       "      <td>ICICI Bank</td>\n",
       "      <td>Y</td>\n",
       "      <td>13</td>\n",
       "      <td>...</td>\n",
       "      <td>13.25</td>\n",
       "      <td>NaN</td>\n",
       "      <td>6762.9</td>\n",
       "      <td>N</td>\n",
       "      <td>Web-browser</td>\n",
       "      <td>G</td>\n",
       "      <td>S122</td>\n",
       "      <td>3</td>\n",
       "      <td>0</td>\n",
       "      <td>30.0</td>\n",
       "    </tr>\n",
       "    <tr>\n",
       "      <th>2</th>\n",
       "      <td>Male</td>\n",
       "      <td>Panchkula</td>\n",
       "      <td>22500</td>\n",
       "      <td>600000.0</td>\n",
       "      <td>4.0</td>\n",
       "      <td>0.0</td>\n",
       "      <td>ALCHEMIST HOSPITALS LTD</td>\n",
       "      <td>State Bank of India</td>\n",
       "      <td>Y</td>\n",
       "      <td>0</td>\n",
       "      <td>...</td>\n",
       "      <td>NaN</td>\n",
       "      <td>NaN</td>\n",
       "      <td>NaN</td>\n",
       "      <td>N</td>\n",
       "      <td>Web-browser</td>\n",
       "      <td>B</td>\n",
       "      <td>S143</td>\n",
       "      <td>1</td>\n",
       "      <td>0</td>\n",
       "      <td>34.0</td>\n",
       "    </tr>\n",
       "    <tr>\n",
       "      <th>3</th>\n",
       "      <td>Male</td>\n",
       "      <td>Saharsa</td>\n",
       "      <td>35000</td>\n",
       "      <td>1000000.0</td>\n",
       "      <td>5.0</td>\n",
       "      <td>0.0</td>\n",
       "      <td>BIHAR GOVERNMENT</td>\n",
       "      <td>State Bank of India</td>\n",
       "      <td>Y</td>\n",
       "      <td>10</td>\n",
       "      <td>...</td>\n",
       "      <td>NaN</td>\n",
       "      <td>NaN</td>\n",
       "      <td>NaN</td>\n",
       "      <td>N</td>\n",
       "      <td>Web-browser</td>\n",
       "      <td>B</td>\n",
       "      <td>S143</td>\n",
       "      <td>3</td>\n",
       "      <td>0</td>\n",
       "      <td>28.0</td>\n",
       "    </tr>\n",
       "    <tr>\n",
       "      <th>4</th>\n",
       "      <td>Male</td>\n",
       "      <td>Bengaluru</td>\n",
       "      <td>100000</td>\n",
       "      <td>500000.0</td>\n",
       "      <td>2.0</td>\n",
       "      <td>25000.0</td>\n",
       "      <td>GLOBAL EDGE SOFTWARE</td>\n",
       "      <td>HDFC Bank</td>\n",
       "      <td>Y</td>\n",
       "      <td>17</td>\n",
       "      <td>...</td>\n",
       "      <td>NaN</td>\n",
       "      <td>NaN</td>\n",
       "      <td>NaN</td>\n",
       "      <td>N</td>\n",
       "      <td>Web-browser</td>\n",
       "      <td>B</td>\n",
       "      <td>S134</td>\n",
       "      <td>3</td>\n",
       "      <td>0</td>\n",
       "      <td>31.0</td>\n",
       "    </tr>\n",
       "  </tbody>\n",
       "</table>\n",
       "<p>5 rows × 23 columns</p>\n",
       "</div>"
      ],
      "text/plain": [
       "   Gender       City  Monthly_Income  Loan_Amount_Applied  \\\n",
       "0  Female      Delhi           20000             300000.0   \n",
       "1    Male     Mumbai           35000             200000.0   \n",
       "2    Male  Panchkula           22500             600000.0   \n",
       "3    Male    Saharsa           35000            1000000.0   \n",
       "4    Male  Bengaluru          100000             500000.0   \n",
       "\n",
       "   Loan_Tenure_Applied  Existing_EMI                        Employer_Name  \\\n",
       "0                  5.0           0.0                              CYBOSOL   \n",
       "1                  2.0           0.0  TATA CONSULTANCY SERVICES LTD (TCS)   \n",
       "2                  4.0           0.0              ALCHEMIST HOSPITALS LTD   \n",
       "3                  5.0           0.0                     BIHAR GOVERNMENT   \n",
       "4                  2.0       25000.0                 GLOBAL EDGE SOFTWARE   \n",
       "\n",
       "        Salary_Account Mobile_Verified  Var5  ... Interest_Rate  \\\n",
       "0            HDFC Bank               N     0  ...           NaN   \n",
       "1           ICICI Bank               Y    13  ...         13.25   \n",
       "2  State Bank of India               Y     0  ...           NaN   \n",
       "3  State Bank of India               Y    10  ...           NaN   \n",
       "4            HDFC Bank               Y    17  ...           NaN   \n",
       "\n",
       "   Processing_Fee  EMI_Loan_Submitted  Filled_Form  Device_Type  Var2 Source  \\\n",
       "0             NaN                 NaN            N  Web-browser     G   S122   \n",
       "1             NaN              6762.9            N  Web-browser     G   S122   \n",
       "2             NaN                 NaN            N  Web-browser     B   S143   \n",
       "3             NaN                 NaN            N  Web-browser     B   S143   \n",
       "4             NaN                 NaN            N  Web-browser     B   S134   \n",
       "\n",
       "  Var4 Disbursed   age  \n",
       "0    1         0  37.0  \n",
       "1    3         0  30.0  \n",
       "2    1         0  34.0  \n",
       "3    3         0  28.0  \n",
       "4    3         0  31.0  \n",
       "\n",
       "[5 rows x 23 columns]"
      ]
     },
     "execution_count": 16,
     "metadata": {},
     "output_type": "execute_result"
    }
   ],
   "source": [
    "data.head(5)"
   ]
  },
  {
   "cell_type": "markdown",
   "metadata": {},
   "source": [
    "#### Zmienne jakościowe - przygotowanie"
   ]
  },
  {
   "cell_type": "code",
   "execution_count": 17,
   "metadata": {},
   "outputs": [],
   "source": [
    "#Zmienna Var5\n",
    "#print(data[\"Var5\"].value_counts())"
   ]
  },
  {
   "cell_type": "code",
   "execution_count": 18,
   "metadata": {},
   "outputs": [
    {
     "data": {
      "text/plain": [
       "array([<matplotlib.axes._subplots.AxesSubplot object at 0x000001DDD512C408>],\n",
       "      dtype=object)"
      ]
     },
     "execution_count": 18,
     "metadata": {},
     "output_type": "execute_result"
    },
    {
     "data": {
      "image/png": "[encoded data removed]",
      "text/plain": [
       "<Figure size 1080x360 with 2 Axes>"
      ]
     },
     "metadata": {
      "needs_background": "light"
     },
     "output_type": "display_data"
    }
   ],
   "source": [
    "fig, axes = plt.subplots(nrows=1, ncols=2, figsize=(15, 5))\n",
    "data[data[\"Disbursed\"] == 1].hist(column = \"Var5\", bins= 19,  ax = axes[0])\n",
    "data[data[\"Disbursed\"]  == 0].hist(column = \"Var5\", bins= 19,  ax = axes[1])"
   ]
  },
  {
   "cell_type": "markdown",
   "metadata": {},
   "source": [
    "Powyższe wykresy wskazują zależność między poziomem zmiennej, a zmienną Disbursed. Najwięcej przypadków, gdzie Disbursed =1 ma miejsce dla wysokich wartości Var5 (z przedziału 13-15). Duża część zbioru ma niskie wartości - przy niskich wartościach obserwujemy też małe liczności Disbursed=1. Kategoria 0 powinna być kategorią osobną. Zmienna zostanie zatem pokategoryzowana."
   ]
  },
  {
   "cell_type": "code",
   "execution_count": 19,
   "metadata": {},
   "outputs": [],
   "source": [
    "dv1={0:0}\n",
    "dv2={i: 123 for i in [1,2,3]}\n",
    "dv3={i: 45678 for i in [4,5,6,7,8]}\n",
    "dv4={i: 9101112 for i in [9,10,11,12]}\n",
    "dv5={i: 131415 for i in [13,14,15]}\n",
    "dv6={i: 161718 for i in [16,17,18]}\n",
    "\n",
    "dict_var5=dict()\n",
    "\n",
    "for dictionary in [dv1, dv2, dv3, dv4, dv5, dv6]:\n",
    "    dict_var5.update(dictionary)"
   ]
  },
  {
   "cell_type": "code",
   "execution_count": 20,
   "metadata": {},
   "outputs": [],
   "source": [
    "#dict_var5"
   ]
  },
  {
   "cell_type": "code",
   "execution_count": 21,
   "metadata": {},
   "outputs": [],
   "source": [
    "#Przemapowanie zmiennej Var5\n",
    "data[\"Var5\"]=data[\"Var5\"].map(dict_var5)"
   ]
  },
  {
   "cell_type": "code",
   "execution_count": 22,
   "metadata": {},
   "outputs": [
    {
     "data": {
      "text/plain": [
       "0          29087\n",
       "123        23480\n",
       "9101112    12901\n",
       "131415      9793\n",
       "45678       7777\n",
       "161718      3982\n",
       "Name: Var5, dtype: int64"
      ]
     },
     "execution_count": 22,
     "metadata": {},
     "output_type": "execute_result"
    }
   ],
   "source": [
    "data[\"Var5\"].value_counts()"
   ]
  },
  {
   "cell_type": "code",
   "execution_count": 23,
   "metadata": {},
   "outputs": [],
   "source": [
    "#Zmienna Salary_Account\n",
    "#print(data[\"Salary_Account\"].value_counts())"
   ]
  },
  {
   "cell_type": "markdown",
   "metadata": {},
   "source": [
    "Zmienna Salary_Account zostanie pogrupowana. Powstanie 5 grup stworzonych w oparciu o % klientów z udzielonym kredytem wśród posiadaczy konta w danym banku. Dodatkowy, 6 poziom zmiennej zostanie przypisany dla obserwacji z brakiem w tej zmiennej."
   ]
  },
  {
   "cell_type": "code",
   "execution_count": 24,
   "metadata": {},
   "outputs": [],
   "source": [
    "#Podzielenie zmiennej na grupy w zależności od % udziału\n",
    "no=data[\"Disbursed\"]==0\n",
    "yes=data[\"Disbursed\"]==1\n",
    "\n",
    "rejected= pd.DataFrame(data[no])\n",
    "disbursed= pd.DataFrame(data[yes])\n",
    "\n",
    "share = pd.DataFrame({\n",
    "                    \"total\": data[\"Gender\"].groupby(data[\"Salary_Account\"]).count(),\n",
    "                    \"rejected\": rejected[\"Gender\"].groupby(rejected[\"Salary_Account\"]).count(),\n",
    "                    \"disbursed\": disbursed[\"Gender\"].groupby(disbursed[\"Salary_Account\"]).count(),\n",
    "                    \"share_disbursed\": disbursed[\"Gender\"].groupby(disbursed[\"Salary_Account\"]).count()*100/data[\"Gender\"].groupby(data[\"Salary_Account\"]).count()\n",
    "                                        })\n",
    "share1=share.fillna({\n",
    "    'disbursed': 0,\n",
    "    'share_disbursed': 0\n",
    "})"
   ]
  },
  {
   "cell_type": "code",
   "execution_count": 25,
   "metadata": {},
   "outputs": [],
   "source": [
    "#share1"
   ]
  },
  {
   "cell_type": "markdown",
   "metadata": {},
   "source": [
    "Dane zostaną podzielone na podkategorie w zależności od odsetka disbursed oraz liczności danej grupy. Wyrożnione zostaną następujące grupy:\n",
    "Duże banki - ponad 500 obserwacji (udział): bardzo duży, duży, średni, mały, bardzo mały;\n",
    "Małe banki - do 500 obserwacji (udział): duży, mały;"
   ]
  },
  {
   "cell_type": "code",
   "execution_count": 26,
   "metadata": {},
   "outputs": [],
   "source": [
    "#big banks\n",
    "big1=share1[(share1[\"total\"]>= 500) & (share1[\"share_disbursed\"]>=2.5)]\n",
    "big2=share1[(share1[\"total\"]>= 500) & (share1[\"share_disbursed\"]<2.5) & (share1[\"share_disbursed\"]>=2)]\n",
    "big3=share1[(share1[\"total\"]>= 500) & (share1[\"share_disbursed\"]<2) & (share1[\"share_disbursed\"]>=1.5)]\n",
    "big4=share1[(share1[\"total\"]>= 500) & (share1[\"share_disbursed\"]<1.5) & (share1[\"share_disbursed\"]>=1)]\n",
    "big5=share1[(share1[\"total\"]>= 500) & (share1[\"share_disbursed\"]<1)]\n",
    "#small banks\n",
    "small1=share1[(share1[\"total\"]< 500) & (share1[\"share_disbursed\"]>=1)]\n",
    "small2=share1[(share1[\"total\"]< 500) & (share1[\"share_disbursed\"]<1)]\n",
    "\n",
    "#list(big1.index)"
   ]
  },
  {
   "cell_type": "code",
   "execution_count": 27,
   "metadata": {},
   "outputs": [],
   "source": [
    "#Stworzenie słowników dla podmiany wartości zmiennej\n",
    "d1={i: \"big_very_high_share\" for i in list(big1.index)}\n",
    "d2={i: \"big_high_share\" for i in list(big2.index)}\n",
    "d3={i: \"big_medium_share\" for i in list(big3.index)}\n",
    "d4={i: \"big_low_share\" for i in list(big4.index)}\n",
    "d5={i: \"big_very_low_share\" for i in list(big5.index)}\n",
    "d6={i: \"small_big_share\" for i in list(small1.index)}\n",
    "d7={i: \"small_low_share\" for i in list(small2.index)}\n",
    "#d5"
   ]
  },
  {
   "cell_type": "code",
   "execution_count": 28,
   "metadata": {},
   "outputs": [],
   "source": [
    "#Złączenie słowników w 1\n",
    "dict_acc=dict()\n",
    "\n",
    "for dictionary in [d1, d2, d3, d4, d5, d6, d7]:\n",
    "    dict_acc.update(dictionary)"
   ]
  },
  {
   "cell_type": "code",
   "execution_count": 29,
   "metadata": {},
   "outputs": [],
   "source": [
    "#dict_acc"
   ]
  },
  {
   "cell_type": "code",
   "execution_count": 30,
   "metadata": {},
   "outputs": [],
   "source": [
    "#Przemapowanie Salary_Account\n",
    "data[\"Salary_Account\"]=data[\"Salary_Account\"].map(dict_acc)"
   ]
  },
  {
   "cell_type": "code",
   "execution_count": 31,
   "metadata": {},
   "outputs": [
    {
     "data": {
      "text/plain": [
       "11764"
      ]
     },
     "execution_count": 31,
     "metadata": {},
     "output_type": "execute_result"
    }
   ],
   "source": [
    "#Ile braków ma zmienna?\n",
    "data[\"Salary_Account\"].isnull().sum()"
   ]
  },
  {
   "cell_type": "markdown",
   "metadata": {},
   "source": [
    "Informacja o braku danych w przypadku Salary Account może być cenna dlatego zostanie jej przypisany osobny poziom"
   ]
  },
  {
   "cell_type": "code",
   "execution_count": 32,
   "metadata": {},
   "outputs": [],
   "source": [
    "data[\"Salary_Account\"]=data[\"Salary_Account\"].replace(np.nan, \"missing\")"
   ]
  },
  {
   "cell_type": "code",
   "execution_count": 33,
   "metadata": {},
   "outputs": [
    {
     "data": {
      "text/plain": [
       "big_high_share         31331\n",
       "big_very_low_share     18470\n",
       "big_medium_share       12054\n",
       "missing                11764\n",
       "big_low_share           4054\n",
       "small_low_share         3390\n",
       "big_very_high_share     3371\n",
       "small_big_share         2586\n",
       "Name: Salary_Account, dtype: int64"
      ]
     },
     "execution_count": 33,
     "metadata": {},
     "output_type": "execute_result"
    }
   ],
   "source": [
    "data[\"Salary_Account\"].value_counts()"
   ]
  },
  {
   "cell_type": "code",
   "execution_count": 34,
   "metadata": {},
   "outputs": [],
   "source": [
    "#Employer_Name\n",
    "#print(data[\"Employer_Name\"].value_counts())"
   ]
  },
  {
   "cell_type": "markdown",
   "metadata": {},
   "source": [
    "Zmienna Employer Name zostanie podzielona na mniejsze kategorie na podstawie liczności obserwacji. "
   ]
  },
  {
   "cell_type": "code",
   "execution_count": 35,
   "metadata": {},
   "outputs": [
    {
     "data": {
      "text/plain": [
       "71"
      ]
     },
     "execution_count": 35,
     "metadata": {},
     "output_type": "execute_result"
    }
   ],
   "source": [
    "#Ile braków ma zmienna?\n",
    "data[\"Employer_Name\"].isnull().sum()"
   ]
  },
  {
   "cell_type": "code",
   "execution_count": 36,
   "metadata": {},
   "outputs": [],
   "source": [
    "#Stworzenie kategorii na braki - zmienna ma także błędne wartości wskazujące na braki jak np. puste pola lub kropki\n",
    "data[\"Employer_Name\"]=data[\"Employer_Name\"].replace(np.nan, \"missing\").str.strip().replace(\"\", \"missing\").replace(\".\", \"missing\")"
   ]
  },
  {
   "cell_type": "code",
   "execution_count": 37,
   "metadata": {},
   "outputs": [],
   "source": [
    "#Podmiana nazwy kategorii 0\n",
    "data[\"Employer_Name\"]=data[\"Employer_Name\"].replace(\"0\", \"category_0\")"
   ]
  },
  {
   "cell_type": "code",
   "execution_count": 38,
   "metadata": {},
   "outputs": [],
   "source": [
    "#Stworzenie tabelki pomocniczej do wyznaczenia kategorii\n",
    "no=data[\"Disbursed\"]==0\n",
    "yes=data[\"Disbursed\"]==1\n",
    "\n",
    "rejected= pd.DataFrame(data[no])\n",
    "disbursed= pd.DataFrame(data[yes])\n",
    "\n",
    "employers = pd.DataFrame({\n",
    "                    \"total\": data[\"Gender\"].groupby(data[\"Employer_Name\"]).count(),\n",
    "                    \"rejected\": rejected[\"Gender\"].groupby(rejected[\"Employer_Name\"]).count(),\n",
    "                    \"disbursed\": disbursed[\"Gender\"].groupby(disbursed[\"Employer_Name\"]).count(),\n",
    "                    \"share_disbursed\": disbursed[\"Gender\"].groupby(disbursed[\"Employer_Name\"]).count()*100/data[\"Gender\"].groupby(data[\"Employer_Name\"]).count()\n",
    "                                        })\n",
    "employers=employers.fillna({\n",
    "    'disbursed': 0,\n",
    "    'share_disbursed': 0\n",
    "})"
   ]
  },
  {
   "cell_type": "code",
   "execution_count": 39,
   "metadata": {},
   "outputs": [],
   "source": [
    "#employers[employers[\"total\"]>60]"
   ]
  },
  {
   "cell_type": "markdown",
   "metadata": {},
   "source": [
    "Kategoria 0 zostanie osobną kategorią. \n",
    "Zakłady pracy liczące dokładnie 1 pracownika są to najczęściej wartości błędne, jest to również NAJWIĘKSZA część zbioru , więc stworzą one osobną kategorię. Do tej kategorii zostaną zakwalifikowane braki (jako do wartości najczęstszej i podobnej jakościowo).\n",
    "Podobnie z zakładami liczącymi dokładnie 2 pracowników - ze względu na liczność oraz występwnie tam niepoprawnych wartości stworzą osobną kategorię. Pozostałe zakłady pracy zostaną pogrupowane wzgledem wielkości pracodawcy i odsetka disbursed."
   ]
  },
  {
   "cell_type": "code",
   "execution_count": 40,
   "metadata": {},
   "outputs": [],
   "source": [
    "#Stworzenie kategorii\n",
    "#other\n",
    "cat_0 = employers.query('index == \"category_0\"')\n",
    "cat_1 = employers.query('(total == 1) or (index == \"missing\") and (index != \"category_0\")')\n",
    "cat_2 = employers.query('(total == 2) and (index != \"missing\") and (index != \"category_0\")')\n",
    "\n",
    "#big employers\n",
    "cat_3 = employers.query('(total>= 50) and (share_disbursed>=3) and (index != \"missing\") and (index != \"category_0\")')\n",
    "cat_4 = employers.query('(total>= 50) and (share_disbursed <3) and (share_disbursed >=1.5) and (index != \"missing\") and (index != \"category_0\")')\n",
    "cat_5 = employers.query('(total>= 50) and (share_disbursed<1.5) and (index != \"missing\") and (index != \"category_0\")')\n",
    "\n",
    "#med employers\n",
    "cat_6 = employers.query('(total>= 15) and (total <50) and (share_disbursed>=1.5) and (index != \"missing\") and (index != \"category_0\")')\n",
    "cat_7 = employers.query('(total>= 15) and (total <50) and(share_disbursed<1.5) and (index != \"missing\") and (index != \"category_0\")')\n",
    "\n",
    "#small employers\n",
    "cat_8 = employers.query('(total< 15) and (total>2) and (share_disbursed>=1.5) and (index != \"missing\") and (index != \"category_0\")')\n",
    "cat_9 = employers.query('(total< 15) and (total>2) and (share_disbursed<1.5) and (index != \"missing\") and (index != \"category_0\")')\n",
    "\n",
    "#list(cat_7.index)"
   ]
  },
  {
   "cell_type": "code",
   "execution_count": 41,
   "metadata": {},
   "outputs": [],
   "source": [
    "#Stworzenie słowników na podstawie kategorii\n",
    "c1={i: \"cat_0\" for i in list(cat_0.index)}\n",
    "c2={i: \"cat_1\" for i in list(cat_1.index)}\n",
    "c3={i: \"cat_2\" for i in list(cat_2.index)}\n",
    "\n",
    "c4={i: \"big_high_share\" for i in list(cat_3.index)}\n",
    "c5={i: \"big_med_share\" for i in list(cat_4.index)}\n",
    "c6={i: \"big_low_share\" for i in list(cat_5.index)}\n",
    "\n",
    "c7={i: \"med_high_share\" for i in list(cat_6.index)}\n",
    "c8={i: \"med_low_share\" for i in list(cat_7.index)}\n",
    "\n",
    "c9={i: \"small_high_share\" for i in list(cat_8.index)}\n",
    "c10={i: \"small_small_share\" for i in list(cat_9.index)}\n",
    "#c10"
   ]
  },
  {
   "cell_type": "code",
   "execution_count": 43,
   "metadata": {},
   "outputs": [],
   "source": [
    "#Złączenie słowników w 1\n",
    "dict_empl=dict()\n",
    "\n",
    "for dictcat in [c1, c2, c3, c4, c5, c6, c7, c8, c9, c10]:\n",
    "    dict_empl.update(dictcat)"
   ]
  },
  {
   "cell_type": "code",
   "execution_count": 44,
   "metadata": {},
   "outputs": [],
   "source": [
    "#dict_empl"
   ]
  },
  {
   "cell_type": "code",
   "execution_count": 45,
   "metadata": {},
   "outputs": [],
   "source": [
    "#Przemapowanie Employer_Name\n",
    "data[\"Employer_Name\"]=data[\"Employer_Name\"].map(dict_empl)"
   ]
  },
  {
   "cell_type": "code",
   "execution_count": 46,
   "metadata": {},
   "outputs": [
    {
     "data": {
      "text/plain": [
       "cat_1                32828\n",
       "small_small_share    19224\n",
       "cat_2                10726\n",
       "med_low_share         5746\n",
       "cat_0                 4914\n",
       "med_high_share        3546\n",
       "big_low_share         3322\n",
       "big_high_share        2418\n",
       "small_high_share      2247\n",
       "big_med_share         2049\n",
       "Name: Employer_Name, dtype: int64"
      ]
     },
     "execution_count": 46,
     "metadata": {},
     "output_type": "execute_result"
    }
   ],
   "source": [
    "data[\"Employer_Name\"].value_counts()"
   ]
  },
  {
   "cell_type": "code",
   "execution_count": 51,
   "metadata": {},
   "outputs": [
    {
     "name": "stdout",
     "output_type": "stream",
     "text": [
      "Delhi        12527\n",
      "Bengaluru    10824\n",
      "Mumbai       10795\n",
      "Hyderabad     7272\n",
      "Chennai       6916\n",
      "Pune          5207\n",
      "Kolkata       2888\n",
      "Ahmedabad     1788\n",
      "Jaipur        1331\n",
      "Gurgaon       1212\n",
      "Name: City, dtype: int64\n"
     ]
    }
   ],
   "source": [
    "#City\n",
    "print(data[\"City\"].value_counts().head(10))"
   ]
  },
  {
   "cell_type": "markdown",
   "metadata": {},
   "source": [
    "Zmienna City zostanie podzielona na podstawie liczności obserwacji (największe miasta wg liczności zbioru jest faktycznie największymi miastami w Indiach). Największe miasta będą osobnymi kategoriami."
   ]
  },
  {
   "cell_type": "code",
   "execution_count": 47,
   "metadata": {},
   "outputs": [
    {
     "data": {
      "text/plain": [
       "1003"
      ]
     },
     "execution_count": 47,
     "metadata": {},
     "output_type": "execute_result"
    }
   ],
   "source": [
    "#Sprawdzenie braków\n",
    "data[\"City\"].isnull().sum()\n",
    "#Braki są dość liczną kategorią - zostaną potraktowane jako osobny poziom zmiennej."
   ]
  },
  {
   "cell_type": "code",
   "execution_count": 48,
   "metadata": {},
   "outputs": [],
   "source": [
    "#Stworzenie kategorii na braki\n",
    "data[\"City\"]=data[\"City\"].replace(np.nan, \"missing\")"
   ]
  },
  {
   "cell_type": "code",
   "execution_count": 49,
   "metadata": {},
   "outputs": [],
   "source": [
    "cities = pd.DataFrame({\n",
    "                    \"total\": data[\"Gender\"].groupby(data[\"City\"]).count(),\n",
    "                    \"rejected\": rejected[\"Gender\"].groupby(rejected[\"City\"]).count(),\n",
    "                    \"disbursed\": disbursed[\"Gender\"].groupby(disbursed[\"City\"]).count()\n",
    "                                        })"
   ]
  },
  {
   "cell_type": "code",
   "execution_count": 52,
   "metadata": {},
   "outputs": [
    {
     "data": {
      "text/plain": [
       "total        5478.0\n",
       "rejected     5393.0\n",
       "disbursed      85.0\n",
       "dtype: float64"
      ]
     },
     "execution_count": 52,
     "metadata": {},
     "output_type": "execute_result"
    }
   ],
   "source": [
    "#Stworzenie kategorii\n",
    "city_Delhi = cities.query('index == \"Delhi\"')\n",
    "city_Bengaluru = cities.query('index == \"Bengaluru\"')\n",
    "city_Mumbai = cities.query('index == \"Mumbai\"')\n",
    "city_Hyderabad = cities.query('index == \"Hyderabad\"')\n",
    "city_Chennai = cities.query('index == \"Chennai\"')\n",
    "city_Pune = cities.query('index == \"Pune\"')\n",
    "city_Kolkata = cities.query('index == \"Kolkata\"')\n",
    "\n",
    "city_missing = cities.query('index == \"missing\"')\n",
    "\n",
    "city_large = cities.query('(total < 2000) and (total >= 1000) and (index != \"missing\")')\n",
    "city_big = cities.query('(total < 1000) and (total >= 500) and (index != \"missing\")')\n",
    "city_medium = cities.query('(total < 500) and (total >= 90) and (index != \"missing\")')\n",
    "city_small = cities.query('(total < 90) and (index != \"missing\")')\n",
    "\n",
    "#city_large.sum()"
   ]
  },
  {
   "cell_type": "code",
   "execution_count": 53,
   "metadata": {},
   "outputs": [],
   "source": [
    "#Stworzenie słowników na podstawie kategorii\n",
    "city1={i: \"Delhi\" for i in list(city_Delhi.index)}\n",
    "city2={i: \"Bengaluru\" for i in list(city_Bengaluru.index)}\n",
    "city3={i: \"Mumbai\" for i in list(city_Mumbai.index)}\n",
    "city4={i: \"Hyderabad\" for i in list(city_Hyderabad.index)}\n",
    "city5={i: \"Chennai\" for i in list(city_Chennai.index)}\n",
    "city6={i: \"Pune\" for i in list(city_Pune.index)}\n",
    "city7={i: \"Kolkata\" for i in list(city_Kolkata.index)}\n",
    "city8={i: \"missing\" for i in list(city_missing.index)}\n",
    "city9={i: \"large\" for i in list(city_large.index)}\n",
    "city10={i: \"big\" for i in list(city_big.index)}\n",
    "city11={i: \"medium\" for i in list(city_medium.index)}\n",
    "city12={i: \"small\" for i in list(city_small.index)}"
   ]
  },
  {
   "cell_type": "code",
   "execution_count": 54,
   "metadata": {},
   "outputs": [],
   "source": [
    "#Złączenie słowników w 1\n",
    "dict_city=dict()\n",
    "\n",
    "for dictcit in [city1, city2, city3, city4, city5, city6, city7, city8, city9, city10, city11, city12]:\n",
    "    dict_city.update(dictcit)\n",
    "    \n",
    "#dict_city"
   ]
  },
  {
   "cell_type": "code",
   "execution_count": 55,
   "metadata": {},
   "outputs": [
    {
     "data": {
      "text/plain": [
       "Delhi        12527\n",
       "Bengaluru    10824\n",
       "Mumbai       10795\n",
       "small         8917\n",
       "medium        8247\n",
       "Hyderabad     7272\n",
       "big           6946\n",
       "Chennai       6916\n",
       "large         5478\n",
       "Pune          5207\n",
       "Kolkata       2888\n",
       "missing       1003\n",
       "Name: City, dtype: int64"
      ]
     },
     "execution_count": 55,
     "metadata": {},
     "output_type": "execute_result"
    }
   ],
   "source": [
    "#Przemapowanie\n",
    "data[\"City\"]=data[\"City\"].map(dict_city)\n",
    "data[\"City\"].value_counts()"
   ]
  },
  {
   "cell_type": "code",
   "execution_count": 57,
   "metadata": {},
   "outputs": [],
   "source": [
    "#data[\"City\"].groupby(data[\"Disbursed\"]).value_counts()"
   ]
  },
  {
   "cell_type": "code",
   "execution_count": 59,
   "metadata": {},
   "outputs": [],
   "source": [
    "#Source\n",
    "#print(data[\"Source\"].value_counts())"
   ]
  },
  {
   "cell_type": "markdown",
   "metadata": {},
   "source": [
    "Zmienna Source ma wiele poziomów o małych licznościach - poziomy posiadające mniej niż 1000 przypadków zostaną złączone w 1 kategorię \"other\"."
   ]
  },
  {
   "cell_type": "code",
   "execution_count": 60,
   "metadata": {},
   "outputs": [],
   "source": [
    "src = pd.DataFrame({\n",
    "                    \"total\": data[\"Gender\"].groupby(data[\"Source\"]).count()\n",
    "                                        })\n",
    "src_to_group=list(src.index[src[\"total\"]<1000])\n",
    "#src_to_group"
   ]
  },
  {
   "cell_type": "code",
   "execution_count": 61,
   "metadata": {},
   "outputs": [],
   "source": [
    "#Podmiana nazwy source w małolicznych grupach na \"OTHER\"\n",
    "data[\"Source\"]=data[\"Source\"].replace(src_to_group, \"OTHER\")"
   ]
  },
  {
   "cell_type": "code",
   "execution_count": 63,
   "metadata": {},
   "outputs": [],
   "source": [
    "#data[\"Source\"].groupby(data[\"Disbursed\"]).value_counts()"
   ]
  },
  {
   "cell_type": "code",
   "execution_count": 82,
   "metadata": {},
   "outputs": [],
   "source": [
    "#Var4\n",
    "#print(data[\"Var4\"].value_counts())"
   ]
  },
  {
   "cell_type": "code",
   "execution_count": 81,
   "metadata": {},
   "outputs": [],
   "source": [
    "#data[\"Var4\"].groupby(data[\"Disbursed\"]).value_counts()"
   ]
  },
  {
   "cell_type": "markdown",
   "metadata": {},
   "source": [
    "Poziomy zmiennej 4 o wartościach 0, 6, 7 zostaną zgrupowane w 1 ze względu na niższą liczbę przypadków oraz bardzo małą liczebność Disbursed=1."
   ]
  },
  {
   "cell_type": "code",
   "execution_count": 66,
   "metadata": {},
   "outputs": [
    {
     "name": "stdout",
     "output_type": "stream",
     "text": [
      "3    25260\n",
      "1    23906\n",
      "5    20266\n",
      "4     6577\n",
      "2     5931\n",
      "6     5080\n",
      "Name: Var4, dtype: int64\n"
     ]
    }
   ],
   "source": [
    "var_gr=[0,7]\n",
    "data[\"Var4\"]=data[\"Var4\"].replace(var_gr, 6)\n",
    "print(data[\"Var4\"].value_counts())"
   ]
  },
  {
   "cell_type": "code",
   "execution_count": 80,
   "metadata": {},
   "outputs": [],
   "source": [
    "#Var2\n",
    "#print(data[\"Var2\"].value_counts())"
   ]
  },
  {
   "cell_type": "code",
   "execution_count": 75,
   "metadata": {},
   "outputs": [],
   "source": [
    "#data[\"Var2\"].groupby(data[\"Disbursed\"]).value_counts()"
   ]
  },
  {
   "cell_type": "markdown",
   "metadata": {},
   "source": [
    "Niektóre zmienne są małoliczne i wymagają pogrupowania. W jedną kategorię złączone zostaną poziomy D i A, a w drugą poziomy E i F."
   ]
  },
  {
   "cell_type": "code",
   "execution_count": 69,
   "metadata": {},
   "outputs": [
    {
     "name": "stdout",
     "output_type": "stream",
     "text": [
      "B    37280\n",
      "G    33032\n",
      "C    14210\n",
      "E     1859\n",
      "D      639\n",
      "Name: Var2, dtype: int64\n"
     ]
    }
   ],
   "source": [
    "data[\"Var2\"]=data[\"Var2\"].replace(\"A\", \"D\").replace(\"F\", \"E\")\n",
    "print(data[\"Var2\"].value_counts())"
   ]
  },
  {
   "cell_type": "code",
   "execution_count": 74,
   "metadata": {},
   "outputs": [],
   "source": [
    "#Var1\n",
    "#print(data[\"Var1\"].value_counts()) #- kilka poziomów"
   ]
  },
  {
   "cell_type": "code",
   "execution_count": 72,
   "metadata": {},
   "outputs": [],
   "source": [
    "#data[\"Var1\"].groupby(data[\"Disbursed\"]).value_counts()"
   ]
  },
  {
   "cell_type": "markdown",
   "metadata": {},
   "source": [
    "Var1 zostanie pogrupowana tak, aby kategorie liczyły conajmniej 1000 obserwacji, do grupowania wykorzystana zostanie zmienna Disbursed."
   ]
  },
  {
   "cell_type": "code",
   "execution_count": 73,
   "metadata": {},
   "outputs": [
    {
     "name": "stdout",
     "output_type": "stream",
     "text": [
      "HBXX              59294\n",
      "HBXC               9010\n",
      "HBXB               4479\n",
      "HAXA               2909\n",
      "OTHER              2320\n",
      "HBXA               2123\n",
      "HAXB               2011\n",
      "HBXD               1964\n",
      "HAXC               1536\n",
      "HCXF_HAXM_HAVC     1374\n",
      "Name: Var1, dtype: int64\n"
     ]
    }
   ],
   "source": [
    "gr1=[\"HCXF\", \"HAXM\", \"HAVC\"]\n",
    "gr2=[\"HBXH\", \"HAYT\", \"HCXD\", \"HCYS\", \"HVYS\", \"HAZD\", \"HCXG\", \"HAXF\"]\n",
    "data[\"Var1\"]=data[\"Var1\"].replace(gr1,\"HCXF_HAXM_HAVC\").replace(gr2,\"OTHER\" )\n",
    "print(data[\"Var1\"].value_counts())"
   ]
  },
  {
   "cell_type": "code",
   "execution_count": 78,
   "metadata": {},
   "outputs": [
    {
     "name": "stdout",
     "output_type": "stream",
     "text": [
      "Web-browser    64316\n",
      "Mobile         22704\n",
      "Name: Device_Type, dtype: int64\n",
      "-----------------------------\n",
      "N    67530\n",
      "Y    19490\n",
      "Name: Filled_Form, dtype: int64\n",
      "-----------------------------\n",
      "Y    56481\n",
      "N    30539\n",
      "Name: Mobile_Verified, dtype: int64\n",
      "-----------------------------\n",
      "Male      49848\n",
      "Female    37172\n",
      "Name: Gender, dtype: int64\n"
     ]
    }
   ],
   "source": [
    "print(data[\"Device_Type\"].value_counts()) \n",
    "print(\"-----------------------------\")\n",
    "print(data[\"Filled_Form\"].value_counts())\n",
    "print(\"-----------------------------\")\n",
    "print(data[\"Mobile_Verified\"].value_counts())\n",
    "print(\"-----------------------------\")\n",
    "print(data[\"Gender\"].value_counts())"
   ]
  },
  {
   "cell_type": "markdown",
   "metadata": {},
   "source": [
    "Pozostałe zmienne jakościowe nie wymagają przekształceń i można je uwzględnić w modelu po przekodowaniu na dummy."
   ]
  },
  {
   "cell_type": "code",
   "execution_count": 79,
   "metadata": {},
   "outputs": [
    {
     "data": {
      "text/plain": [
       "Index(['Gender', 'City', 'Monthly_Income', 'Loan_Amount_Applied',\n",
       "       'Loan_Tenure_Applied', 'Existing_EMI', 'Employer_Name',\n",
       "       'Salary_Account', 'Mobile_Verified', 'Var5', 'Var1',\n",
       "       'Loan_Amount_Submitted', 'Loan_Tenure_Submitted', 'Interest_Rate',\n",
       "       'Processing_Fee', 'EMI_Loan_Submitted', 'Filled_Form', 'Device_Type',\n",
       "       'Var2', 'Source', 'Var4', 'Disbursed', 'age'],\n",
       "      dtype='object')"
      ]
     },
     "execution_count": 79,
     "metadata": {},
     "output_type": "execute_result"
    }
   ],
   "source": [
    "data.columns"
   ]
  },
  {
   "cell_type": "code",
   "execution_count": 83,
   "metadata": {},
   "outputs": [],
   "source": [
    "#Przygotowanie wektora zmiennych do przekodowania na DUMMY oraz wektora zmiennych numerycznych\n",
    "dummy=['Gender', 'City', 'Employer_Name', 'Salary_Account', 'Mobile_Verified', 'Var1', 'Filled_Form', 'Device_Type', 'Var2', 'Source', 'Var4', 'Var5']\n",
    "numeric=['Monthly_Income', 'Loan_Amount_Applied', 'Loan_Tenure_Applied', 'Existing_EMI', 'Loan_Amount_Submitted', 'Loan_Tenure_Submitted', 'Interest_Rate', 'Processing_Fee', 'EMI_Loan_Submitted', 'age']"
   ]
  },
  {
   "cell_type": "markdown",
   "metadata": {},
   "source": [
    "#### Zmienne ilościowe - przygotowanie"
   ]
  },
  {
   "cell_type": "markdown",
   "metadata": {},
   "source": [
    "Zmienne ilościowe wymagają osobnej analizy w celu zidentyfikowania braków i wypełnienia ich odpowiednimi wartościami. Zmienna age jest już przygotowana."
   ]
  },
  {
   "cell_type": "code",
   "execution_count": 85,
   "metadata": {},
   "outputs": [
    {
     "name": "stdout",
     "output_type": "stream",
     "text": [
      "Monthly_Income\n"
     ]
    },
    {
     "data": {
      "image/png": "[encoded data removed]",
      "text/plain": [
       "<Figure size 432x288 with 1 Axes>"
      ]
     },
     "metadata": {
      "needs_background": "light"
     },
     "output_type": "display_data"
    },
    {
     "name": "stdout",
     "output_type": "stream",
     "text": [
      "Loan_Amount_Applied\n"
     ]
    },
    {
     "data": {
      "image/png": "[encoded data removed]",
      "text/plain": [
       "<Figure size 432x288 with 1 Axes>"
      ]
     },
     "metadata": {
      "needs_background": "light"
     },
     "output_type": "display_data"
    },
    {
     "name": "stdout",
     "output_type": "stream",
     "text": [
      "Loan_Tenure_Applied\n"
     ]
    },
    {
     "data": {
      "image/png": "[encoded data removed]",
      "text/plain": [
       "<Figure size 432x288 with 1 Axes>"
      ]
     },
     "metadata": {
      "needs_background": "light"
     },
     "output_type": "display_data"
    },
    {
     "name": "stdout",
     "output_type": "stream",
     "text": [
      "Existing_EMI\n"
     ]
    },
    {
     "data": {
      "image/png": "[encoded data removed]",
      "text/plain": [
       "<Figure size 432x288 with 1 Axes>"
      ]
     },
     "metadata": {
      "needs_background": "light"
     },
     "output_type": "display_data"
    },
    {
     "name": "stdout",
     "output_type": "stream",
     "text": [
      "Loan_Amount_Submitted\n"
     ]
    },
    {
     "data": {
      "image/png": "[encoded data removed]",
      "text/plain": [
       "<Figure size 432x288 with 1 Axes>"
      ]
     },
     "metadata": {
      "needs_background": "light"
     },
     "output_type": "display_data"
    },
    {
     "name": "stdout",
     "output_type": "stream",
     "text": [
      "Loan_Tenure_Submitted\n"
     ]
    },
    {
     "data": {
      "image/png": "[encoded data removed]",
      "text/plain": [
       "<Figure size 432x288 with 1 Axes>"
      ]
     },
     "metadata": {
      "needs_background": "light"
     },
     "output_type": "display_data"
    },
    {
     "name": "stdout",
     "output_type": "stream",
     "text": [
      "Interest_Rate\n"
     ]
    },
    {
     "data": {
      "image/png": "[encoded data removed]",
      "text/plain": [
       "<Figure size 432x288 with 1 Axes>"
      ]
     },
     "metadata": {
      "needs_background": "light"
     },
     "output_type": "display_data"
    },
    {
     "name": "stdout",
     "output_type": "stream",
     "text": [
      "Processing_Fee\n"
     ]
    },
    {
     "data": {
      "image/png": "[encoded data removed]",
      "text/plain": [
       "<Figure size 432x288 with 1 Axes>"
      ]
     },
     "metadata": {
      "needs_background": "light"
     },
     "output_type": "display_data"
    },
    {
     "name": "stdout",
     "output_type": "stream",
     "text": [
      "EMI_Loan_Submitted\n"
     ]
    },
    {
     "data": {
      "image/png": "[encoded data removed]",
      "text/plain": [
       "<Figure size 432x288 with 1 Axes>"
      ]
     },
     "metadata": {
      "needs_background": "light"
     },
     "output_type": "display_data"
    },
    {
     "name": "stdout",
     "output_type": "stream",
     "text": [
      "age\n"
     ]
    },
    {
     "data": {
      "image/png": "[encoded data removed]",
      "text/plain": [
       "<Figure size 432x288 with 1 Axes>"
      ]
     },
     "metadata": {
      "needs_background": "light"
     },
     "output_type": "display_data"
    }
   ],
   "source": [
    "#Histogramy dla zmiennych numerycznych\n",
    "for var in numeric:\n",
    "    plt.hist(data[var])\n",
    "    plt.title(print(var), fontsize=12)\n",
    "    plt.show()"
   ]
  },
  {
   "cell_type": "code",
   "execution_count": 86,
   "metadata": {},
   "outputs": [
    {
     "data": {
      "image/png": "[encoded data removed]",
      "text/plain": [
       "<Figure size 432x288 with 1 Axes>"
      ]
     },
     "metadata": {
      "needs_background": "light"
     },
     "output_type": "display_data"
    },
    {
     "data": {
      "image/png": "[encoded data removed]",
      "text/plain": [
       "<Figure size 432x288 with 1 Axes>"
      ]
     },
     "metadata": {
      "needs_background": "light"
     },
     "output_type": "display_data"
    },
    {
     "data": {
      "image/png": "[encoded data removed]",
      "text/plain": [
       "<Figure size 432x288 with 1 Axes>"
      ]
     },
     "metadata": {
      "needs_background": "light"
     },
     "output_type": "display_data"
    },
    {
     "data": {
      "image/png": "[encoded data removed]",
      "text/plain": [
       "<Figure size 432x288 with 1 Axes>"
      ]
     },
     "metadata": {
      "needs_background": "light"
     },
     "output_type": "display_data"
    },
    {
     "data": {
      "image/png": "[encoded data removed]",
      "text/plain": [
       "<Figure size 432x288 with 1 Axes>"
      ]
     },
     "metadata": {
      "needs_background": "light"
     },
     "output_type": "display_data"
    },
    {
     "data": {
      "image/png": "[encoded data removed]",
      "text/plain": [
       "<Figure size 432x288 with 1 Axes>"
      ]
     },
     "metadata": {
      "needs_background": "light"
     },
     "output_type": "display_data"
    },
    {
     "data": {
      "image/png": "[encoded data removed]",
      "text/plain": [
       "<Figure size 432x288 with 1 Axes>"
      ]
     },
     "metadata": {
      "needs_background": "light"
     },
     "output_type": "display_data"
    },
    {
     "data": {
      "image/png": "[encoded data removed]",
      "text/plain": [
       "<Figure size 432x288 with 1 Axes>"
      ]
     },
     "metadata": {
      "needs_background": "light"
     },
     "output_type": "display_data"
    },
    {
     "data": {
      "image/png": "[encoded data removed]",
      "text/plain": [
       "<Figure size 432x288 with 1 Axes>"
      ]
     },
     "metadata": {
      "needs_background": "light"
     },
     "output_type": "display_data"
    },
    {
     "data": {
      "image/png": "[encoded data removed]",
      "text/plain": [
       "<Figure size 432x288 with 1 Axes>"
      ]
     },
     "metadata": {
      "needs_background": "light"
     },
     "output_type": "display_data"
    }
   ],
   "source": [
    "#Boxplots\n",
    "for var in numeric:\n",
    "    data.boxplot(column=[var])\n",
    "    plt.show()"
   ]
  },
  {
   "cell_type": "code",
   "execution_count": 88,
   "metadata": {},
   "outputs": [
    {
     "name": "stdout",
     "output_type": "stream",
     "text": [
      "Zmienna: Monthly_Income\n",
      "Minimum: 0\n",
      "Maksimum: 444554443\n",
      "Średnia: 58849.97435072397\n",
      "Mediana: 25000.0\n",
      "1 percentyl: 2583.0\n",
      "99 percentyl: 250000.0\n",
      "Liczba nulli: 0\n",
      "-----------------------------------\n",
      "Zmienna: Loan_Amount_Applied\n",
      "Minimum: 0.0\n",
      "Maksimum: 10000000.0\n",
      "Średnia: 230250.69992754373\n",
      "Mediana: 100000.0\n",
      "1 percentyl: nan\n",
      "99 percentyl: nan\n",
      "Liczba nulli: 71\n",
      "-----------------------------------\n",
      "Zmienna: Loan_Tenure_Applied\n",
      "Minimum: 0.0\n",
      "Maksimum: 10.0\n",
      "Średnia: 2.131398866001909\n",
      "Mediana: 2.0\n",
      "1 percentyl: nan\n",
      "99 percentyl: nan\n",
      "Liczba nulli: 71\n",
      "-----------------------------------\n",
      "Zmienna: Existing_EMI\n",
      "Minimum: 0.0\n",
      "Maksimum: 10000000.0\n",
      "Średnia: 3696.227823896767\n",
      "Mediana: 0.0\n",
      "1 percentyl: nan\n",
      "99 percentyl: nan\n",
      "Liczba nulli: 71\n",
      "-----------------------------------\n",
      "Zmienna: Loan_Amount_Submitted\n",
      "Minimum: 50000.0\n",
      "Maksimum: 3000000.0\n",
      "Średnia: 395010.59018833365\n",
      "Mediana: 300000.0\n",
      "1 percentyl: nan\n",
      "99 percentyl: nan\n",
      "Liczba nulli: 34613\n",
      "-----------------------------------\n",
      "Zmienna: Loan_Tenure_Submitted\n",
      "Minimum: 1.0\n",
      "Maksimum: 6.0\n",
      "Średnia: 3.8913694735436106\n",
      "Mediana: 4.0\n",
      "1 percentyl: nan\n",
      "99 percentyl: nan\n",
      "Liczba nulli: 34613\n",
      "-----------------------------------\n",
      "Zmienna: Interest_Rate\n",
      "Minimum: 11.99\n",
      "Maksimum: 37.0\n",
      "Średnia: 19.197474211930288\n",
      "Mediana: 18.0\n",
      "1 percentyl: nan\n",
      "99 percentyl: nan\n",
      "Liczba nulli: 59294\n",
      "-----------------------------------\n",
      "Zmienna: Processing_Fee\n",
      "Minimum: 200.0\n",
      "Maksimum: 50000.0\n",
      "Średnia: 5131.150838803793\n",
      "Mediana: 4000.0\n",
      "1 percentyl: nan\n",
      "99 percentyl: nan\n",
      "Liczba nulli: 59600\n",
      "-----------------------------------\n",
      "Zmienna: EMI_Loan_Submitted\n",
      "Minimum: 1176.41\n",
      "Maksimum: 144748.28\n",
      "Średnia: 10999.5283766138\n",
      "Mediana: 9392.97\n",
      "1 percentyl: nan\n",
      "99 percentyl: nan\n",
      "Liczba nulli: 59294\n",
      "-----------------------------------\n",
      "Zmienna: age\n",
      "Minimum: 18.0\n",
      "Maksimum: 86.0\n",
      "Średnia: 30.890301080211447\n",
      "Mediana: 29.0\n",
      "1 percentyl: 21.0\n",
      "99 percentyl: 55.0\n",
      "Liczba nulli: 0\n",
      "-----------------------------------\n"
     ]
    }
   ],
   "source": [
    "#Podstawowe statystyki dla zmiennych numerycznych\n",
    "for var in numeric:\n",
    "    print(f'Zmienna: {var}')\n",
    "    print(f'Minimum: {data[var].min()}')\n",
    "    print(f'Maksimum: {data[var].max()}')\n",
    "    print(f'Średnia: {data[var].mean()}')\n",
    "    print(f'Mediana: {data[var].median()}')\n",
    "    print(f'1 percentyl: {np.percentile(data[var], 1)}')\n",
    "    print(f'99 percentyl: {np.percentile(data[var], 99)}')\n",
    "    print(f'Liczba nulli: {data[var].isnull().sum()}')\n",
    "    print('-----------------------------------')"
   ]
  },
  {
   "cell_type": "markdown",
   "metadata": {},
   "source": [
    "Zmienna Monthly_Income nie ma braków, ale posiada dużo wartości odstających (99 percentyl to 250tys rupii). Na wartości tej zmiennej zostanie nałożony cap w wysokości 99 percentyla wartości tej zmiennej. "
   ]
  },
  {
   "cell_type": "code",
   "execution_count": 89,
   "metadata": {},
   "outputs": [],
   "source": [
    "cap_income=np.percentile(data[\"Monthly_Income\"], 99)"
   ]
  },
  {
   "cell_type": "code",
   "execution_count": 90,
   "metadata": {},
   "outputs": [
    {
     "data": {
      "text/plain": [
       "819"
      ]
     },
     "execution_count": 90,
     "metadata": {},
     "output_type": "execute_result"
    }
   ],
   "source": [
    "#Spr ile przypadków będzie miec \"przycięty\" dochód\n",
    "query_income = data[\"Monthly_Income\"] > cap_income\n",
    "cust_to_cap=data.loc[query_income]\n",
    "cust_to_cap[\"Gender\"].count()    "
   ]
  },
  {
   "cell_type": "code",
   "execution_count": 91,
   "metadata": {},
   "outputs": [],
   "source": [
    "#Nadpisanie zmiennej Monthly_Income\n",
    "data.loc[query_income, \"Monthly_Income\"] = cap_income"
   ]
  },
  {
   "cell_type": "code",
   "execution_count": 92,
   "metadata": {},
   "outputs": [
    {
     "data": {
      "image/png": "[encoded data removed]",
      "text/plain": [
       "<Figure size 432x288 with 1 Axes>"
      ]
     },
     "metadata": {
      "needs_background": "light"
     },
     "output_type": "display_data"
    }
   ],
   "source": [
    "plt.hist(data[\"Monthly_Income\"], bins=70)\n",
    "plt.show()"
   ]
  },
  {
   "cell_type": "markdown",
   "metadata": {},
   "source": [
    "Zmienna ma rozkład skośny - wartość zmiennej zostanie poprawiona (pierwiastek)"
   ]
  },
  {
   "cell_type": "code",
   "execution_count": 93,
   "metadata": {},
   "outputs": [
    {
     "data": {
      "image/png": "[encoded data removed]",
      "text/plain": [
       "<Figure size 432x288 with 1 Axes>"
      ]
     },
     "metadata": {
      "needs_background": "light"
     },
     "output_type": "display_data"
    },
    {
     "data": {
      "image/png": "[encoded data removed]",
      "text/plain": [
       "<Figure size 432x288 with 1 Axes>"
      ]
     },
     "metadata": {
      "needs_background": "light"
     },
     "output_type": "display_data"
    }
   ],
   "source": [
    "plt.hist(pow(data[\"Monthly_Income\"],1/2), bins=70)\n",
    "plt.show()\n",
    "\n",
    "plt.hist(pow(data[\"Monthly_Income\"],1/3), bins=70)\n",
    "plt.show()"
   ]
  },
  {
   "cell_type": "code",
   "execution_count": 94,
   "metadata": {},
   "outputs": [],
   "source": [
    "#Nadpisanie wartości pierwiastkiem sześciennym\n",
    "data[\"Monthly_Income\"] = pow(data[\"Monthly_Income\"], 1/3)"
   ]
  },
  {
   "cell_type": "markdown",
   "metadata": {},
   "source": [
    "Zmienna Loan_Amount_Applied posiada braki (71 przypadków), które trzeba zaimputować - wykorzystana zostanie mediana (bardziej odporna na outliery niz średnia). Zmienna posiada sporo outlierów oraz wartości równych 0. Wartości równe 0 zostaną niezmienione - potraktowane jako specyficzny rodzaj braku danych. Na wartości powyżej 99 percentyle nałożony będzie cap."
   ]
  },
  {
   "cell_type": "code",
   "execution_count": 95,
   "metadata": {},
   "outputs": [
    {
     "data": {
      "text/plain": [
       "28853"
      ]
     },
     "execution_count": 95,
     "metadata": {},
     "output_type": "execute_result"
    }
   ],
   "source": [
    "#Sprawdzenie wartości 0\n",
    "query_am0 = data[\"Loan_Amount_Applied\"] == 0\n",
    "zeros=data.loc[query_am0]\n",
    "zeros[\"Gender\"].count() "
   ]
  },
  {
   "cell_type": "code",
   "execution_count": 96,
   "metadata": {},
   "outputs": [
    {
     "data": {
      "text/plain": [
       "200000.0"
      ]
     },
     "execution_count": 96,
     "metadata": {},
     "output_type": "execute_result"
    }
   ],
   "source": [
    "#Wyliczenie poprawnej mediany (na wartościach bez bez nulli i zer)\n",
    "data1=data.query('Loan_Amount_Applied > 0')\n",
    "#data1[\"Loan_Amount_Applied\"].isnull().sum()\n",
    "\n",
    "med_loan_appl=data1[\"Loan_Amount_Applied\"].median()\n",
    "med_loan_appl"
   ]
  },
  {
   "cell_type": "code",
   "execution_count": 97,
   "metadata": {},
   "outputs": [],
   "source": [
    "#Wypełnienie braków\n",
    "data[\"Loan_Amount_Applied\"]=data[\"Loan_Amount_Applied\"].replace(np.nan, med_loan_appl)"
   ]
  },
  {
   "cell_type": "code",
   "execution_count": 98,
   "metadata": {},
   "outputs": [
    {
     "name": "stdout",
     "output_type": "stream",
     "text": [
      "99 percentyl: 1800000.0\n"
     ]
    }
   ],
   "source": [
    "print(f'99 percentyl: {np.percentile(data1[\"Loan_Amount_Applied\"], 99)}')"
   ]
  },
  {
   "cell_type": "markdown",
   "metadata": {},
   "source": [
    "Maksymalną wartością zmiennej Loan Amount Submitted jest 3 mln. Mimo, że 99 percentyl zmiennej Loan Amount Applied jest niższy niż ta wartość, maksymalna wartość Loan Amount Applied zostanie ustawiona także jako 3mln."
   ]
  },
  {
   "cell_type": "code",
   "execution_count": 99,
   "metadata": {},
   "outputs": [
    {
     "data": {
      "text/plain": [
       "102"
      ]
     },
     "execution_count": 99,
     "metadata": {},
     "output_type": "execute_result"
    }
   ],
   "source": [
    "#Spr ile przypadków wykracza poza 99 percentyl oraz poza 3 mln\n",
    "cap_la=np.percentile(data[\"Loan_Amount_Applied\"], 99)\n",
    "cap_la2= 3000000\n",
    "query_la = data[\"Loan_Amount_Applied\"] > cap_la2 #cap_la\n",
    "cust_to_cap1=data.loc[query_la]\n",
    "cust_to_cap1[\"Gender\"].count()   "
   ]
  },
  {
   "cell_type": "code",
   "execution_count": 100,
   "metadata": {},
   "outputs": [],
   "source": [
    "#Nałożenie capa na wartości zmiennej\n",
    "data.loc[query_la, \"Loan_Amount_Applied\"] = cap_la2"
   ]
  },
  {
   "cell_type": "code",
   "execution_count": 101,
   "metadata": {
    "scrolled": true
   },
   "outputs": [
    {
     "data": {
      "image/png": "[encoded data removed]",
      "text/plain": [
       "<Figure size 432x288 with 1 Axes>"
      ]
     },
     "metadata": {
      "needs_background": "light"
     },
     "output_type": "display_data"
    }
   ],
   "source": [
    "plt.hist(data[\"Loan_Amount_Applied\"], bins=70)\n",
    "plt.show()"
   ]
  },
  {
   "cell_type": "markdown",
   "metadata": {},
   "source": [
    "Rozkład zmiennej jest skośny - jej wartości zostaną zamienione na pierwiastki wartości."
   ]
  },
  {
   "cell_type": "code",
   "execution_count": 102,
   "metadata": {},
   "outputs": [
    {
     "data": {
      "image/png": "[encoded data removed]",
      "text/plain": [
       "<Figure size 432x288 with 1 Axes>"
      ]
     },
     "metadata": {
      "needs_background": "light"
     },
     "output_type": "display_data"
    },
    {
     "data": {
      "image/png": "[encoded data removed]",
      "text/plain": [
       "<Figure size 432x288 with 1 Axes>"
      ]
     },
     "metadata": {
      "needs_background": "light"
     },
     "output_type": "display_data"
    }
   ],
   "source": [
    "plt.hist(pow(data1[\"Loan_Amount_Applied\"],1/2), bins=50)\n",
    "plt.show()\n",
    "\n",
    "plt.hist(pow(data1[\"Loan_Amount_Applied\"],1/3), bins=50)\n",
    "plt.show()"
   ]
  },
  {
   "cell_type": "code",
   "execution_count": 103,
   "metadata": {},
   "outputs": [],
   "source": [
    "#Nadpisanie wartości zmiennej\n",
    "data[\"Loan_Amount_Applied\"] = pow(data[\"Loan_Amount_Applied\"], 1/3)"
   ]
  },
  {
   "cell_type": "markdown",
   "metadata": {},
   "source": [
    "Zmienna Loan_Tenure_Applied podobnie jak Loan_Amount_Applied ma 71 braków oraz minimalną wartość równą 0, świadczącą o błędzie w danych. Podejście będzie analogiczne jak poprzednio."
   ]
  },
  {
   "cell_type": "code",
   "execution_count": 104,
   "metadata": {},
   "outputs": [
    {
     "data": {
      "text/plain": [
       "33844"
      ]
     },
     "execution_count": 104,
     "metadata": {},
     "output_type": "execute_result"
    }
   ],
   "source": [
    "#Sprawdzenie wartości 0\n",
    "query_lt0 = data[\"Loan_Tenure_Applied\"] == 0\n",
    "zeros=data.loc[query_lt0]\n",
    "zeros[\"Gender\"].count() "
   ]
  },
  {
   "cell_type": "code",
   "execution_count": 105,
   "metadata": {},
   "outputs": [
    {
     "data": {
      "text/plain": [
       "3.0"
      ]
     },
     "execution_count": 105,
     "metadata": {},
     "output_type": "execute_result"
    }
   ],
   "source": [
    "#Wyliczenie poprawnej mediany (na wartościach bez bez nulli i zer)\n",
    "data2=data.query('Loan_Tenure_Applied > 0')\n",
    "\n",
    "med_ten_appl=data2[\"Loan_Tenure_Applied\"].median()\n",
    "med_ten_appl"
   ]
  },
  {
   "cell_type": "code",
   "execution_count": 106,
   "metadata": {},
   "outputs": [],
   "source": [
    "#Wypełnienie braków\n",
    "data[\"Loan_Tenure_Applied\"]=data[\"Loan_Tenure_Applied\"].replace(np.nan, med_ten_appl)"
   ]
  },
  {
   "cell_type": "code",
   "execution_count": 107,
   "metadata": {},
   "outputs": [
    {
     "data": {
      "image/png": "[encoded data removed]",
      "text/plain": [
       "<Figure size 432x288 with 1 Axes>"
      ]
     },
     "metadata": {
      "needs_background": "light"
     },
     "output_type": "display_data"
    }
   ],
   "source": [
    "plt.hist(data[\"Loan_Tenure_Applied\"])\n",
    "plt.show()"
   ]
  },
  {
   "cell_type": "markdown",
   "metadata": {},
   "source": [
    "Nazwa zmiennej Existing_EMI (equated monthly installment) sugeruje, że będzie miała ona wartość powyżej 0, kiedy klient ma inne zobowiązania, które spłaca. Wartośc 0 wydaje się być poprawną wartością. Nulle (71 przypadków) zostaną nadpisane wartością mediany dla obserwacji, gdzie EMI>0. Rozkład zmiennej zostanie zbadany. Wartości znacząco powyżej średniej mogą być wartościami błędnymi. "
   ]
  },
  {
   "cell_type": "code",
   "execution_count": 108,
   "metadata": {},
   "outputs": [
    {
     "data": {
      "text/plain": [
       "58238"
      ]
     },
     "execution_count": 108,
     "metadata": {},
     "output_type": "execute_result"
    }
   ],
   "source": [
    "#Sprawdzenie liczby przypadków wartości 0\n",
    "query_emi = data[\"Existing_EMI\"] == 0\n",
    "zeroemi=data.loc[query_emi]\n",
    "zeroemi[\"Gender\"].count() "
   ]
  },
  {
   "cell_type": "code",
   "execution_count": 109,
   "metadata": {},
   "outputs": [
    {
     "data": {
      "text/plain": [
       "6000.0"
      ]
     },
     "execution_count": 109,
     "metadata": {},
     "output_type": "execute_result"
    }
   ],
   "source": [
    "#Wyliczenie mediany (na wartościach bez bez nulli i zer)\n",
    "data3=data.query('Existing_EMI > 0')\n",
    "\n",
    "med_emi=data3[\"Existing_EMI\"].median()\n",
    "med_emi"
   ]
  },
  {
   "cell_type": "code",
   "execution_count": 110,
   "metadata": {},
   "outputs": [],
   "source": [
    "#Wypełnienie braków\n",
    "data[\"Existing_EMI\"]=data[\"Existing_EMI\"].replace(np.nan, med_emi)\n",
    "#data[\"Existing_EMI\"].isnull().sum()"
   ]
  },
  {
   "cell_type": "code",
   "execution_count": 111,
   "metadata": {},
   "outputs": [
    {
     "name": "stdout",
     "output_type": "stream",
     "text": [
      "99 percentyl: 65000.0\n",
      "99.9 percentyl: 150000.0\n",
      "99.99 percentyl: 446608.3139994177\n",
      "max: 10000000.0\n"
     ]
    }
   ],
   "source": [
    "#Sprawdzenie wartości odstających\n",
    "print(f'99 percentyl: {np.percentile(data3[\"Existing_EMI\"], 99)}')\n",
    "print(f'99.9 percentyl: {np.percentile(data3[\"Existing_EMI\"], 99.9)}')\n",
    "print(f'99.99 percentyl: {np.percentile(data3[\"Existing_EMI\"], 99.99)}')\n",
    "print(f'max: {max(data[\"Existing_EMI\"])}')"
   ]
  },
  {
   "cell_type": "code",
   "execution_count": 112,
   "metadata": {},
   "outputs": [
    {
     "data": {
      "text/plain": [
       "273"
      ]
     },
     "execution_count": 112,
     "metadata": {},
     "output_type": "execute_result"
    }
   ],
   "source": [
    "cap_emi= np.percentile(data3[\"Existing_EMI\"], 99)\n",
    "query_outemi = data[\"Existing_EMI\"] > cap_emi\n",
    "outemi=data.loc[query_outemi]\n",
    "outemi[\"Gender\"].count() "
   ]
  },
  {
   "cell_type": "markdown",
   "metadata": {},
   "source": [
    "Jest tylko 18 przypadków, gdzie zmienna Existing_EMI przekracza 99.9 percentyl. Przypadków, gdzie zmienna przekracza 99 percentyl jest tylko 273. Wartości odstające zostaną przycięte do 99 percentyla."
   ]
  },
  {
   "cell_type": "code",
   "execution_count": 113,
   "metadata": {},
   "outputs": [],
   "source": [
    "#Nadpisanie wartości\n",
    "data.loc[query_outemi, \"Existing_EMI\"] = cap_emi"
   ]
  },
  {
   "cell_type": "code",
   "execution_count": 114,
   "metadata": {},
   "outputs": [
    {
     "data": {
      "image/png": "[encoded data removed]",
      "text/plain": [
       "<Figure size 432x288 with 1 Axes>"
      ]
     },
     "metadata": {
      "needs_background": "light"
     },
     "output_type": "display_data"
    }
   ],
   "source": [
    "emi_hist=data.query('Existing_EMI > 0')\n",
    "plt.hist(emi_hist[\"Existing_EMI\"])\n",
    "plt.show()"
   ]
  },
  {
   "cell_type": "markdown",
   "metadata": {},
   "source": [
    "Rozkład zmiennej jest skośny i zostanie poprawiony - na wartość zmiennej zostanie nałożony pierwiastek."
   ]
  },
  {
   "cell_type": "code",
   "execution_count": 115,
   "metadata": {},
   "outputs": [
    {
     "data": {
      "image/png": "[encoded data removed]",
      "text/plain": [
       "<Figure size 432x288 with 1 Axes>"
      ]
     },
     "metadata": {
      "needs_background": "light"
     },
     "output_type": "display_data"
    },
    {
     "data": {
      "image/png": "[encoded data removed]",
      "text/plain": [
       "<Figure size 432x288 with 1 Axes>"
      ]
     },
     "metadata": {
      "needs_background": "light"
     },
     "output_type": "display_data"
    }
   ],
   "source": [
    "plt.hist(pow(emi_hist[\"Existing_EMI\"], 1/2))\n",
    "plt.show()\n",
    "         \n",
    "plt.hist(pow(emi_hist[\"Existing_EMI\"], 1/3))\n",
    "plt.show()"
   ]
  },
  {
   "cell_type": "code",
   "execution_count": 116,
   "metadata": {},
   "outputs": [],
   "source": [
    "#Nadpisanie wartości zmiennej pierwiastkiem sześciennym\n",
    "data[\"Existing_EMI\"] = pow(data[\"Existing_EMI\"], 1/3)"
   ]
  },
  {
   "cell_type": "markdown",
   "metadata": {},
   "source": [
    "Zmienna Var5 jest zmienną ciągłą poklasyfikowaną. Nie ma braków - nie wymaga dalszych poprawek"
   ]
  },
  {
   "cell_type": "markdown",
   "metadata": {},
   "source": [
    "Zmienne Loan_Amount_Submitted oraz Loan_Tenure_Sumbitted posiadają bardzo dużo braków (ok 1/3 przypadków). Zmienne te nie mają wartości 0. Najpierw zostanie sprawdzone, czy wśród przypadków z missingiem znajdują sie takie, dla których Disbursed = 1. Jeśli tak, to zmienna będzie mieć przypisany specjalny poziom dla braków - zostanią nadpisane wartościami zmiennych _Applied."
   ]
  },
  {
   "cell_type": "code",
   "execution_count": 117,
   "metadata": {},
   "outputs": [
    {
     "name": "stdout",
     "output_type": "stream",
     "text": [
      "229\n",
      "34613\n"
     ]
    }
   ],
   "source": [
    "nulls_las=data[data[\"Loan_Amount_Submitted\"].isnull()==1]\n",
    "\n",
    "print(nulls_las[\"Disbursed\"].sum())\n",
    "print(nulls_las[\"Disbursed\"].count())\n",
    "\n",
    "#Są przypadki z \"Disbursed\"=1."
   ]
  },
  {
   "cell_type": "code",
   "execution_count": 118,
   "metadata": {},
   "outputs": [
    {
     "data": {
      "image/png": "[encoded data removed]",
      "text/plain": [
       "<Figure size 432x288 with 1 Axes>"
      ]
     },
     "metadata": {
      "needs_background": "light"
     },
     "output_type": "display_data"
    },
    {
     "data": {
      "image/png": "[encoded data removed]",
      "text/plain": [
       "<Figure size 432x288 with 1 Axes>"
      ]
     },
     "metadata": {
      "needs_background": "light"
     },
     "output_type": "display_data"
    }
   ],
   "source": [
    "#Przed nadpisaniem należy sprawdzić rozkłady zmiennych i dokonać analogicznego przekształcenia jak na zmiennych _Applied.\n",
    "las=data[data[\"Loan_Amount_Submitted\"]>1]\n",
    "\n",
    "plt.hist(las[\"Loan_Amount_Submitted\"])\n",
    "plt.show()\n",
    "\n",
    "plt.hist(pow(las[\"Loan_Amount_Submitted\"], 1/3))\n",
    "plt.show()"
   ]
  },
  {
   "cell_type": "code",
   "execution_count": 119,
   "metadata": {},
   "outputs": [],
   "source": [
    "#Nadpisanie wartości pierwiastkami sześciennymi wartości\n",
    "data[\"Loan_Amount_Submitted\"] = pow(data[\"Loan_Amount_Submitted\"], 1/3)"
   ]
  },
  {
   "cell_type": "code",
   "execution_count": 120,
   "metadata": {},
   "outputs": [],
   "source": [
    "#Nadpisanie nulli wartościami zmiennej Loan_Amont_Applied\n",
    "data[\"Loan_Amount_Submitted\"]=np.where(data[\"Loan_Amount_Submitted\"].isnull()==True, data[\"Loan_Amount_Applied\"], data[\"Loan_Amount_Submitted\"])"
   ]
  },
  {
   "cell_type": "code",
   "execution_count": 121,
   "metadata": {},
   "outputs": [
    {
     "data": {
      "image/png": "[encoded data removed]",
      "text/plain": [
       "<Figure size 432x288 with 1 Axes>"
      ]
     },
     "metadata": {
      "needs_background": "light"
     },
     "output_type": "display_data"
    }
   ],
   "source": [
    "plt.hist(data[\"Loan_Amount_Submitted\"])\n",
    "plt.show()"
   ]
  },
  {
   "cell_type": "code",
   "execution_count": 122,
   "metadata": {},
   "outputs": [],
   "source": [
    "#Check\n",
    "#c=data[data[\"Loan_Amount_Submitted\"]!=data[\"Loan_Amount_Applied\"]]\n",
    "#c[\"Gender\"].count()"
   ]
  },
  {
   "cell_type": "code",
   "execution_count": 123,
   "metadata": {},
   "outputs": [],
   "source": [
    "#Zmienna Loan_Tenure_Submitted w miejscach, gdzie jest pusta przyjmie wartość zmiennej Loan_Tenure_Applied\n",
    "data[\"Loan_Tenure_Submitted\"]=np.where(data[\"Loan_Tenure_Submitted\"].isnull()==True, data[\"Loan_Tenure_Applied\"], data[\"Loan_Tenure_Submitted\"])"
   ]
  },
  {
   "cell_type": "code",
   "execution_count": 124,
   "metadata": {},
   "outputs": [
    {
     "data": {
      "image/png": "[encoded data removed]",
      "text/plain": [
       "<Figure size 432x288 with 1 Axes>"
      ]
     },
     "metadata": {
      "needs_background": "light"
     },
     "output_type": "display_data"
    }
   ],
   "source": [
    "plt.hist(data[\"Loan_Tenure_Submitted\"])\n",
    "plt.show()"
   ]
  },
  {
   "cell_type": "markdown",
   "metadata": {},
   "source": [
    "Zmienne EMI_Loan_Submitted, Processing_Fee oraz Interest_Rate zawierają bardzo dużo nulli (ponad 59tys). Najpierw zostanie sprawdzone, czy wśród przypadków z wartością null występują przypadki, gdzie Disbursed=1, a następnie (jeśli tak) puste miejsca zostaną wypełnione. Rozkład zmiennej EMI_Loan_Submitted jest skośny - zostanie ona przekształcona (pierwiastek)."
   ]
  },
  {
   "cell_type": "code",
   "execution_count": 125,
   "metadata": {},
   "outputs": [
    {
     "name": "stdout",
     "output_type": "stream",
     "text": [
      "682\n",
      "689\n",
      "682\n"
     ]
    }
   ],
   "source": [
    "for variable in [\"EMI_Loan_Submitted\", \"Processing_Fee\", \"Interest_Rate\"]:\n",
    "    nulls=data[data[variable].isnull()==1]\n",
    "    print(nulls[\"Disbursed\"].sum())"
   ]
  },
  {
   "cell_type": "code",
   "execution_count": 126,
   "metadata": {},
   "outputs": [
    {
     "data": {
      "image/png": "[encoded data removed]",
      "text/plain": [
       "<Figure size 432x288 with 1 Axes>"
      ]
     },
     "metadata": {
      "needs_background": "light"
     },
     "output_type": "display_data"
    },
    {
     "data": {
      "image/png": "[encoded data removed]",
      "text/plain": [
       "<Figure size 432x288 with 1 Axes>"
      ]
     },
     "metadata": {
      "needs_background": "light"
     },
     "output_type": "display_data"
    }
   ],
   "source": [
    "plt.hist(pow(data[\"EMI_Loan_Submitted\"],1/2))\n",
    "plt.show()\n",
    "\n",
    "plt.hist(pow(data[\"EMI_Loan_Submitted\"],1/3))\n",
    "plt.show()"
   ]
  },
  {
   "cell_type": "code",
   "execution_count": 127,
   "metadata": {},
   "outputs": [],
   "source": [
    "data[\"EMI_Loan_Submitted\"] = pow(data[\"EMI_Loan_Submitted\"], 1/3)"
   ]
  },
  {
   "cell_type": "code",
   "execution_count": 128,
   "metadata": {},
   "outputs": [],
   "source": [
    "#Zmienna EMI_Loan_Submitted nie posiada wartości 0 - braki zostaną nadpisane 0.\n",
    "data[\"EMI_Loan_Submitted\"] = data[\"EMI_Loan_Submitted\"].replace(np.nan, 0)"
   ]
  },
  {
   "cell_type": "code",
   "execution_count": 129,
   "metadata": {},
   "outputs": [
    {
     "data": {
      "image/png": "[encoded data removed]",
      "text/plain": [
       "<Figure size 432x288 with 1 Axes>"
      ]
     },
     "metadata": {
      "needs_background": "light"
     },
     "output_type": "display_data"
    },
    {
     "data": {
      "image/png": "[encoded data removed]",
      "text/plain": [
       "<Figure size 432x288 with 1 Axes>"
      ]
     },
     "metadata": {
      "needs_background": "light"
     },
     "output_type": "display_data"
    }
   ],
   "source": [
    "#Processing_Fee także ma skośny rozkład - procedura będzie taka sama, jak dla poprzedniej zmiennej.\n",
    "plt.hist(pow(data[\"Processing_Fee\"],1/3))\n",
    "plt.show()\n",
    "\n",
    "plt.hist(pow(data[\"Processing_Fee\"],1/4))\n",
    "plt.show()"
   ]
  },
  {
   "cell_type": "code",
   "execution_count": 130,
   "metadata": {},
   "outputs": [],
   "source": [
    "data[\"Processing_Fee\"] = pow(data[\"Processing_Fee\"], 1/4)"
   ]
  },
  {
   "cell_type": "code",
   "execution_count": 131,
   "metadata": {},
   "outputs": [],
   "source": [
    "#Zmienna Processing_Fee nie posiada wartości 0 - braki zostaną nadpisane 0.\n",
    "data[\"Processing_Fee\"] = data[\"Processing_Fee\"].replace(np.nan, 0)"
   ]
  },
  {
   "cell_type": "code",
   "execution_count": 132,
   "metadata": {},
   "outputs": [],
   "source": [
    "#Interest_Rate jest zmienną bimodalną - jej wartości zostaną niezmienione, a wartości null zostana zaimputowane 0.\n",
    "data[\"Interest_Rate\"] = data[\"Interest_Rate\"].replace(np.nan, 0)"
   ]
  },
  {
   "cell_type": "code",
   "execution_count": 135,
   "metadata": {},
   "outputs": [],
   "source": [
    "#Sprawdzenie danych\n",
    "#data.isnull().sum()"
   ]
  },
  {
   "cell_type": "markdown",
   "metadata": {},
   "source": [
    "#### Przygotowanie do modelowania"
   ]
  },
  {
   "cell_type": "code",
   "execution_count": 136,
   "metadata": {},
   "outputs": [],
   "source": [
    "#Stworzenie dummies na zmiennych jakościowych\n",
    "#Z kazdej z dummies zostanie usunięty 1 poziom, aby nie powielac informacji (liniowa niezalezność)\n",
    "data_fin=pd.get_dummies(data, columns=dummy, drop_first=True)"
   ]
  },
  {
   "cell_type": "code",
   "execution_count": 137,
   "metadata": {},
   "outputs": [
    {
     "data": {
      "text/html": [
       "<div>\n",
       "<style scoped>\n",
       "    .dataframe tbody tr th:only-of-type {\n",
       "        vertical-align: middle;\n",
       "    }\n",
       "\n",
       "    .dataframe tbody tr th {\n",
       "        vertical-align: top;\n",
       "    }\n",
       "\n",
       "    .dataframe thead th {\n",
       "        text-align: right;\n",
       "    }\n",
       "</style>\n",
       "<table border=\"1\" class=\"dataframe\">\n",
       "  <thead>\n",
       "    <tr style=\"text-align: right;\">\n",
       "      <th></th>\n",
       "      <th>Monthly_Income</th>\n",
       "      <th>Loan_Amount_Applied</th>\n",
       "      <th>Loan_Tenure_Applied</th>\n",
       "      <th>Existing_EMI</th>\n",
       "      <th>Loan_Amount_Submitted</th>\n",
       "      <th>Loan_Tenure_Submitted</th>\n",
       "      <th>Interest_Rate</th>\n",
       "      <th>Processing_Fee</th>\n",
       "      <th>EMI_Loan_Submitted</th>\n",
       "      <th>Disbursed</th>\n",
       "      <th>...</th>\n",
       "      <th>Var4_2</th>\n",
       "      <th>Var4_3</th>\n",
       "      <th>Var4_4</th>\n",
       "      <th>Var4_5</th>\n",
       "      <th>Var4_6</th>\n",
       "      <th>Var5_123</th>\n",
       "      <th>Var5_45678</th>\n",
       "      <th>Var5_131415</th>\n",
       "      <th>Var5_161718</th>\n",
       "      <th>Var5_9101112</th>\n",
       "    </tr>\n",
       "  </thead>\n",
       "  <tbody>\n",
       "    <tr>\n",
       "      <th>0</th>\n",
       "      <td>27.144176</td>\n",
       "      <td>66.943295</td>\n",
       "      <td>5.0</td>\n",
       "      <td>0.000000</td>\n",
       "      <td>66.943295</td>\n",
       "      <td>5.0</td>\n",
       "      <td>0.00</td>\n",
       "      <td>0.0</td>\n",
       "      <td>0.000000</td>\n",
       "      <td>0</td>\n",
       "      <td>...</td>\n",
       "      <td>0</td>\n",
       "      <td>0</td>\n",
       "      <td>0</td>\n",
       "      <td>0</td>\n",
       "      <td>0</td>\n",
       "      <td>0</td>\n",
       "      <td>0</td>\n",
       "      <td>0</td>\n",
       "      <td>0</td>\n",
       "      <td>0</td>\n",
       "    </tr>\n",
       "    <tr>\n",
       "      <th>1</th>\n",
       "      <td>32.710663</td>\n",
       "      <td>58.480355</td>\n",
       "      <td>2.0</td>\n",
       "      <td>0.000000</td>\n",
       "      <td>58.480355</td>\n",
       "      <td>2.0</td>\n",
       "      <td>13.25</td>\n",
       "      <td>0.0</td>\n",
       "      <td>18.910847</td>\n",
       "      <td>0</td>\n",
       "      <td>...</td>\n",
       "      <td>0</td>\n",
       "      <td>1</td>\n",
       "      <td>0</td>\n",
       "      <td>0</td>\n",
       "      <td>0</td>\n",
       "      <td>0</td>\n",
       "      <td>0</td>\n",
       "      <td>1</td>\n",
       "      <td>0</td>\n",
       "      <td>0</td>\n",
       "    </tr>\n",
       "    <tr>\n",
       "      <th>2</th>\n",
       "      <td>28.231081</td>\n",
       "      <td>84.343267</td>\n",
       "      <td>4.0</td>\n",
       "      <td>0.000000</td>\n",
       "      <td>76.630943</td>\n",
       "      <td>4.0</td>\n",
       "      <td>0.00</td>\n",
       "      <td>0.0</td>\n",
       "      <td>0.000000</td>\n",
       "      <td>0</td>\n",
       "      <td>...</td>\n",
       "      <td>0</td>\n",
       "      <td>0</td>\n",
       "      <td>0</td>\n",
       "      <td>0</td>\n",
       "      <td>0</td>\n",
       "      <td>0</td>\n",
       "      <td>0</td>\n",
       "      <td>0</td>\n",
       "      <td>0</td>\n",
       "      <td>0</td>\n",
       "    </tr>\n",
       "    <tr>\n",
       "      <th>3</th>\n",
       "      <td>32.710663</td>\n",
       "      <td>100.000000</td>\n",
       "      <td>5.0</td>\n",
       "      <td>0.000000</td>\n",
       "      <td>97.258883</td>\n",
       "      <td>5.0</td>\n",
       "      <td>0.00</td>\n",
       "      <td>0.0</td>\n",
       "      <td>0.000000</td>\n",
       "      <td>0</td>\n",
       "      <td>...</td>\n",
       "      <td>0</td>\n",
       "      <td>1</td>\n",
       "      <td>0</td>\n",
       "      <td>0</td>\n",
       "      <td>0</td>\n",
       "      <td>0</td>\n",
       "      <td>0</td>\n",
       "      <td>0</td>\n",
       "      <td>0</td>\n",
       "      <td>1</td>\n",
       "    </tr>\n",
       "    <tr>\n",
       "      <th>4</th>\n",
       "      <td>46.415888</td>\n",
       "      <td>79.370053</td>\n",
       "      <td>2.0</td>\n",
       "      <td>29.240177</td>\n",
       "      <td>79.370053</td>\n",
       "      <td>2.0</td>\n",
       "      <td>0.00</td>\n",
       "      <td>0.0</td>\n",
       "      <td>0.000000</td>\n",
       "      <td>0</td>\n",
       "      <td>...</td>\n",
       "      <td>0</td>\n",
       "      <td>1</td>\n",
       "      <td>0</td>\n",
       "      <td>0</td>\n",
       "      <td>0</td>\n",
       "      <td>0</td>\n",
       "      <td>0</td>\n",
       "      <td>0</td>\n",
       "      <td>1</td>\n",
       "      <td>0</td>\n",
       "    </tr>\n",
       "  </tbody>\n",
       "</table>\n",
       "<p>5 rows × 72 columns</p>\n",
       "</div>"
      ],
      "text/plain": [
       "   Monthly_Income  Loan_Amount_Applied  Loan_Tenure_Applied  Existing_EMI  \\\n",
       "0       27.144176            66.943295                  5.0      0.000000   \n",
       "1       32.710663            58.480355                  2.0      0.000000   \n",
       "2       28.231081            84.343267                  4.0      0.000000   \n",
       "3       32.710663           100.000000                  5.0      0.000000   \n",
       "4       46.415888            79.370053                  2.0     29.240177   \n",
       "\n",
       "   Loan_Amount_Submitted  Loan_Tenure_Submitted  Interest_Rate  \\\n",
       "0              66.943295                    5.0           0.00   \n",
       "1              58.480355                    2.0          13.25   \n",
       "2              76.630943                    4.0           0.00   \n",
       "3              97.258883                    5.0           0.00   \n",
       "4              79.370053                    2.0           0.00   \n",
       "\n",
       "   Processing_Fee  EMI_Loan_Submitted  Disbursed  ...  Var4_2  Var4_3  Var4_4  \\\n",
       "0             0.0            0.000000          0  ...       0       0       0   \n",
       "1             0.0           18.910847          0  ...       0       1       0   \n",
       "2             0.0            0.000000          0  ...       0       0       0   \n",
       "3             0.0            0.000000          0  ...       0       1       0   \n",
       "4             0.0            0.000000          0  ...       0       1       0   \n",
       "\n",
       "   Var4_5  Var4_6  Var5_123  Var5_45678  Var5_131415  Var5_161718  \\\n",
       "0       0       0         0           0            0            0   \n",
       "1       0       0         0           0            1            0   \n",
       "2       0       0         0           0            0            0   \n",
       "3       0       0         0           0            0            0   \n",
       "4       0       0         0           0            0            1   \n",
       "\n",
       "   Var5_9101112  \n",
       "0             0  \n",
       "1             0  \n",
       "2             0  \n",
       "3             1  \n",
       "4             0  \n",
       "\n",
       "[5 rows x 72 columns]"
      ]
     },
     "execution_count": 137,
     "metadata": {},
     "output_type": "execute_result"
    }
   ],
   "source": [
    "data_fin.head()"
   ]
  },
  {
   "cell_type": "code",
   "execution_count": 138,
   "metadata": {},
   "outputs": [],
   "source": [
    "#Podział zbioru na testowy i uczący\n",
    "X=data_fin.drop(columns=[\"Disbursed\"])\n",
    "y=data_fin[\"Disbursed\"]\n",
    "\n",
    "X_train, X_test, y_train, y_test = train_test_split(X, y, test_size=0.2, random_state=123)"
   ]
  },
  {
   "cell_type": "code",
   "execution_count": 139,
   "metadata": {},
   "outputs": [
    {
     "name": "stdout",
     "output_type": "stream",
     "text": [
      "17404\n",
      "268\n"
     ]
    }
   ],
   "source": [
    "print(y_test.count())\n",
    "print(y_test.sum())"
   ]
  },
  {
   "cell_type": "code",
   "execution_count": 140,
   "metadata": {},
   "outputs": [
    {
     "name": "stdout",
     "output_type": "stream",
     "text": [
      "69616\n",
      "1005\n"
     ]
    }
   ],
   "source": [
    "print(y_train.count())\n",
    "print(y_train.sum())"
   ]
  },
  {
   "cell_type": "code",
   "execution_count": 182,
   "metadata": {},
   "outputs": [],
   "source": [
    "#Zdefiniowanie parametru do kroswalidacji\n",
    "kfold = StratifiedKFold(n_splits=5, shuffle=False)\n",
    "#kfold = StratifiedKFold(n_splits=5, random_state=123, shuffle=True)"
   ]
  },
  {
   "cell_type": "code",
   "execution_count": 141,
   "metadata": {},
   "outputs": [],
   "source": [
    "#Ewentualny undersampling"
   ]
  },
  {
   "cell_type": "code",
   "execution_count": 151,
   "metadata": {},
   "outputs": [
    {
     "name": "stdout",
     "output_type": "stream",
     "text": [
      "(68611, 71) (1005, 71)\n"
     ]
    }
   ],
   "source": [
    "##Podział wartości na 0 i 1.\n",
    "#X_values = X_train.values\n",
    "#y_values = y_train.values\n",
    "#X_0 = X_values[y_values == 0, :]\n",
    "#X_1 = X_values[y_values == 1, :]\n",
    "#\n",
    "#print(X_0.shape, X_1.shape)"
   ]
  },
  {
   "cell_type": "code",
   "execution_count": 152,
   "metadata": {},
   "outputs": [
    {
     "name": "stdout",
     "output_type": "stream",
     "text": [
      "(5025, 71) (5025,)\n"
     ]
    }
   ],
   "source": [
    "##Losowy wybór indeksów z klasy o większej liczności.\n",
    "#param=4\n",
    "#indices_0_under = np.random.choice(X_0.shape[0], size=X_1.shape[0]*param, replace=False)\n",
    "#\n",
    "#X_under_0 = X_0[indices_0_under]\n",
    "#X_under = np.vstack([X_under_0, X_1])\n",
    "#y_under = np.array([0]*X_under_0.shape[0] + [1]*X_1.shape[0])\n",
    "#\n",
    "#print(X_under.shape, y_under.shape)"
   ]
  },
  {
   "cell_type": "markdown",
   "metadata": {},
   "source": [
    "#### Budowa modeli - drzewo decyzyjne"
   ]
  },
  {
   "cell_type": "code",
   "execution_count": 196,
   "metadata": {},
   "outputs": [
    {
     "data": {
      "text/plain": [
       "{'classifier__max_depth': 5,\n",
       " 'classifier__max_leaf_nodes': 2,\n",
       " 'classifier__min_samples_leaf': 10,\n",
       " 'scaler': StandardScaler()}"
      ]
     },
     "execution_count": 196,
     "metadata": {},
     "output_type": "execute_result"
    }
   ],
   "source": [
    "pipe1 = Pipeline([\n",
    "    ('scaler', StandardScaler()), \n",
    "    ('classifier', DecisionTreeClassifier(class_weight={0:1, 1:9}, random_state=123))\n",
    "])\n",
    "\n",
    "param_grid1 = {\n",
    "            'scaler': [StandardScaler(), None],\n",
    "            'classifier__max_depth': [5,6,7,8,9,10],\n",
    "            'classifier__min_samples_leaf': [10, 15, 20, 25, 30],\n",
    "            'classifier__max_leaf_nodes': [2, 3, 4]\n",
    "}\n",
    "\n",
    "grid1 = GridSearchCV(pipe1, param_grid1, cv=kfold, return_train_score=True,  n_jobs=-1)\n",
    "\n",
    "grid1.fit(X_train, y_train)\n",
    "#grid1.fit(X_under, y_under)\n",
    "grid1.best_params_"
   ]
  },
  {
   "cell_type": "markdown",
   "metadata": {},
   "source": [
    "#### Budowa modeli - XGB"
   ]
  },
  {
   "cell_type": "code",
   "execution_count": 184,
   "metadata": {},
   "outputs": [
    {
     "data": {
      "text/plain": [
       "{'classifier__learning_rate': 0.01,\n",
       " 'classifier__max_depth': 9,\n",
       " 'scaler': StandardScaler()}"
      ]
     },
     "execution_count": 184,
     "metadata": {},
     "output_type": "execute_result"
    }
   ],
   "source": [
    "pipe2 = Pipeline([\n",
    "    ('scaler', StandardScaler()), \n",
    "    ('classifier', xgboost.XGBClassifier(n_estimators=700, random_state=123))\n",
    "])\n",
    "\n",
    "param_grid2 = {\n",
    "            'scaler': [StandardScaler(), None],\n",
    "            'classifier__max_depth': [4, 6, 8, 9],\n",
    "            'classifier__learning_rate': [0.005, 0.01, 0.05]\n",
    "}\n",
    "\n",
    "grid2 = GridSearchCV(pipe2, param_grid2, cv=kfold, return_train_score=True, n_jobs=-1)\n",
    "\n",
    "#grid2.fit(X_train, y_train)\n",
    "grid2.fit(X_under, y_under)\n",
    "grid2.best_params_"
   ]
  },
  {
   "cell_type": "markdown",
   "metadata": {},
   "source": [
    "#### Budowa modeli - regresja logistyczna"
   ]
  },
  {
   "cell_type": "code",
   "execution_count": 185,
   "metadata": {},
   "outputs": [
    {
     "data": {
      "text/plain": [
       "{'classifier__C': 0.0001}"
      ]
     },
     "execution_count": 185,
     "metadata": {},
     "output_type": "execute_result"
    }
   ],
   "source": [
    "pipe3 = Pipeline([\n",
    "    ('scaler', StandardScaler()), \n",
    "    ('classifier', LogisticRegression(class_weight={0:1, 1:9}, max_iter=1000000, solver='newton-cg', random_state=123))\n",
    "])\n",
    "\n",
    "param_grid3 = {\n",
    "            'classifier__C': [0.0001, 0.0005, 0.001, 0.005, 0.05, 0.01]\n",
    "}\n",
    "\n",
    "grid3 = GridSearchCV(pipe3, param_grid3, cv=kfold,  n_jobs=-1)\n",
    "\n",
    "grid3.fit(X_train, y_train)\n",
    "grid3.best_params_"
   ]
  },
  {
   "cell_type": "markdown",
   "metadata": {},
   "source": [
    "#### Budowa modeli - Random Forest"
   ]
  },
  {
   "cell_type": "code",
   "execution_count": 186,
   "metadata": {},
   "outputs": [
    {
     "data": {
      "text/plain": [
       "{'classifier__max_depth': 4,\n",
       " 'classifier__min_samples_leaf': 12,\n",
       " 'scaler': StandardScaler()}"
      ]
     },
     "execution_count": 186,
     "metadata": {},
     "output_type": "execute_result"
    }
   ],
   "source": [
    "pipe4 = Pipeline([\n",
    "    ('scaler', StandardScaler()), \n",
    "    ('classifier', RandomForestClassifier(class_weight={0:1, 1:20}, n_estimators=700, random_state=123))\n",
    "])\n",
    "\n",
    "param_grid4 = {\n",
    "            'scaler': [StandardScaler(), None],\n",
    "            'classifier__max_depth': [4, 6, 8, 10],\n",
    "            'classifier__min_samples_leaf': [10, 12, 13, 15]\n",
    "}\n",
    "\n",
    "grid4 = GridSearchCV(pipe4, param_grid4, cv=kfold, return_train_score=True,  n_jobs=-1)\n",
    "\n",
    "grid4.fit(X_train, y_train)\n",
    "grid4.best_params_"
   ]
  },
  {
   "cell_type": "markdown",
   "metadata": {},
   "source": [
    "#### Budowa modeli - Bagging"
   ]
  },
  {
   "cell_type": "code",
   "execution_count": 193,
   "metadata": {
    "scrolled": true
   },
   "outputs": [
    {
     "data": {
      "text/plain": [
       "{'classifier__max_features': 5,\n",
       " 'classifier__max_samples': 5,\n",
       " 'scaler': StandardScaler()}"
      ]
     },
     "execution_count": 193,
     "metadata": {},
     "output_type": "execute_result"
    }
   ],
   "source": [
    "pipe5 = Pipeline([\n",
    "    ('scaler', StandardScaler()), \n",
    "    ('classifier', BaggingClassifier(DecisionTreeClassifier(class_weight={0:1, 1:9}), n_estimators=700, bootstrap=True, random_state=123))\n",
    "])\n",
    "\n",
    "param_grid5 = {\n",
    "            'scaler': [StandardScaler(), None],\n",
    "            'classifier__max_samples': [5, 7, 10, 12],\n",
    "            'classifier__max_features': [5, 7, 10,15],\n",
    "}\n",
    "\n",
    "grid5 = GridSearchCV(pipe5, param_grid5, cv=kfold, return_train_score=True,  n_jobs=-1)\n",
    "\n",
    "grid5.fit(X_train, y_train)\n",
    "grid5.best_params_"
   ]
  },
  {
   "cell_type": "markdown",
   "metadata": {},
   "source": [
    "#### Budowa modeli - GradientBoosting"
   ]
  },
  {
   "cell_type": "code",
   "execution_count": 190,
   "metadata": {},
   "outputs": [
    {
     "data": {
      "text/plain": [
       "{'classifier__learning_rate': 0.01,\n",
       " 'classifier__max_depth': 6,\n",
       " 'scaler': StandardScaler()}"
      ]
     },
     "execution_count": 190,
     "metadata": {},
     "output_type": "execute_result"
    }
   ],
   "source": [
    "pipe6 = Pipeline([\n",
    "    ('scaler', StandardScaler()), \n",
    "    ('classifier', GradientBoostingClassifier(n_estimators=400, random_state=123))\n",
    "])\n",
    "\n",
    "param_grid6 = {\n",
    "            'scaler': [StandardScaler(), None],\n",
    "            'classifier__learning_rate': [0.01, 0.1],\n",
    "            'classifier__max_depth': [6,8],\n",
    "}\n",
    "\n",
    "grid6 = GridSearchCV(pipe6, param_grid6, cv=kfold, return_train_score=True,  n_jobs=-1)\n",
    "\n",
    "grid6.fit(X_train, y_train)\n",
    "grid6.best_params_"
   ]
  },
  {
   "cell_type": "markdown",
   "metadata": {},
   "source": [
    "#### Sprawdzenie jakości modeli + porównanie metod"
   ]
  },
  {
   "cell_type": "code",
   "execution_count": 197,
   "metadata": {},
   "outputs": [
    {
     "name": "stdout",
     "output_type": "stream",
     "text": [
      "Decision Tree\n",
      "precision_score: 0.16452991452991453\n",
      "recall_score: 0.2873134328358209\n",
      "f1_score: 0.20923913043478262\n",
      "accuracy_score: 0.9665594116295104\n",
      "XGB\n",
      "precision_score: 0.13544018058690746\n",
      "recall_score: 0.6716417910447762\n",
      "f1_score: 0.22542266750156548\n",
      "accuracy_score: 0.9289243851988048\n",
      "Logistic Regression\n",
      "precision_score: 0.2682926829268293\n",
      "recall_score: 0.20522388059701493\n",
      "f1_score: 0.23255813953488375\n",
      "accuracy_score: 0.9791427258101586\n",
      "Random Forest\n",
      "precision_score: 0.2535211267605634\n",
      "recall_score: 0.20149253731343283\n",
      "f1_score: 0.22453222453222452\n",
      "accuracy_score: 0.9785681452539646\n",
      "Bagging\n"
     ]
    },
    {
     "name": "stderr",
     "output_type": "stream",
     "text": [
      "C:\\Users\\bl06gb\\Anaconda3\\lib\\site-packages\\sklearn\\metrics\\_classification.py:1245: UndefinedMetricWarning: Precision is ill-defined and being set to 0.0 due to no predicted samples. Use `zero_division` parameter to control this behavior.\n",
      "  _warn_prf(average, modifier, msg_start, len(result))\n"
     ]
    },
    {
     "name": "stdout",
     "output_type": "stream",
     "text": [
      "precision_score: 0.0\n",
      "recall_score: 0.0\n",
      "f1_score: 0.0\n",
      "accuracy_score: 0.9846012410940014\n"
     ]
    },
    {
     "name": "stderr",
     "output_type": "stream",
     "text": [
      "C:\\Users\\bl06gb\\Anaconda3\\lib\\site-packages\\sklearn\\metrics\\_classification.py:1245: UndefinedMetricWarning: Precision is ill-defined and being set to 0.0 due to no predicted samples. Use `zero_division` parameter to control this behavior.\n",
      "  _warn_prf(average, modifier, msg_start, len(result))\n"
     ]
    },
    {
     "name": "stdout",
     "output_type": "stream",
     "text": [
      "GradientBoosting\n",
      "precision_score: 0.5294117647058824\n",
      "recall_score: 0.033582089552238806\n",
      "f1_score: 0.0631578947368421\n",
      "accuracy_score: 0.9846586991496208\n"
     ]
    }
   ],
   "source": [
    "models = []\n",
    "models.append(('Decision Tree', grid1.best_estimator_))\n",
    "models.append(('XGB', grid2.best_estimator_))\n",
    "models.append(('Logistic Regression', grid3.best_estimator_))\n",
    "models.append(('Random Forest', grid4.best_estimator_))\n",
    "models.append(('Bagging', grid5.best_estimator_))\n",
    "models.append(('GradientBoosting', grid6.best_estimator_))\n",
    "\n",
    "precision_score = []\n",
    "recall_score = []\n",
    "f1_score = []\n",
    "accuracy_score = []\n",
    "for name, model in models:\n",
    "    print(name)\n",
    "    print(\"precision_score: {}\".format(metrics.precision_score(y_test, model.predict(X_test)) ))\n",
    "    print(\"recall_score: {}\".format( metrics.recall_score(y_test, model.predict(X_test)) ))\n",
    "    print(\"f1_score: {}\".format( metrics.f1_score(y_test, model.predict(X_test)) ))\n",
    "    print(\"accuracy_score: {}\".format( metrics.accuracy_score(y_test, model.predict(X_test)) ))\n",
    "    precision_score.append(metrics.precision_score(y_test, model.predict(X_test)))\n",
    "    recall_score.append(metrics.recall_score(y_test, model.predict(X_test)))\n",
    "    f1_score.append( metrics.f1_score(y_test, model.predict(X_test)))\n",
    "    accuracy_score.append(metrics.accuracy_score(y_test, model.predict(X_test)))"
   ]
  },
  {
   "cell_type": "code",
   "execution_count": 198,
   "metadata": {},
   "outputs": [
    {
     "data": {
      "text/html": [
       "<div>\n",
       "<style scoped>\n",
       "    .dataframe tbody tr th:only-of-type {\n",
       "        vertical-align: middle;\n",
       "    }\n",
       "\n",
       "    .dataframe tbody tr th {\n",
       "        vertical-align: top;\n",
       "    }\n",
       "\n",
       "    .dataframe thead th {\n",
       "        text-align: right;\n",
       "    }\n",
       "</style>\n",
       "<table border=\"1\" class=\"dataframe\">\n",
       "  <thead>\n",
       "    <tr style=\"text-align: right;\">\n",
       "      <th></th>\n",
       "      <th>Method</th>\n",
       "      <th>precision_score</th>\n",
       "      <th>recall_score</th>\n",
       "      <th>f1_score</th>\n",
       "      <th>accuracy_score</th>\n",
       "    </tr>\n",
       "  </thead>\n",
       "  <tbody>\n",
       "    <tr>\n",
       "      <th>0</th>\n",
       "      <td>Decision Tree</td>\n",
       "      <td>0.164530</td>\n",
       "      <td>0.287313</td>\n",
       "      <td>0.209239</td>\n",
       "      <td>0.966559</td>\n",
       "    </tr>\n",
       "    <tr>\n",
       "      <th>1</th>\n",
       "      <td>XGB</td>\n",
       "      <td>0.135440</td>\n",
       "      <td>0.671642</td>\n",
       "      <td>0.225423</td>\n",
       "      <td>0.928924</td>\n",
       "    </tr>\n",
       "    <tr>\n",
       "      <th>2</th>\n",
       "      <td>Logistic Regression</td>\n",
       "      <td>0.268293</td>\n",
       "      <td>0.205224</td>\n",
       "      <td>0.232558</td>\n",
       "      <td>0.979143</td>\n",
       "    </tr>\n",
       "    <tr>\n",
       "      <th>3</th>\n",
       "      <td>Random Forest</td>\n",
       "      <td>0.253521</td>\n",
       "      <td>0.201493</td>\n",
       "      <td>0.224532</td>\n",
       "      <td>0.978568</td>\n",
       "    </tr>\n",
       "    <tr>\n",
       "      <th>4</th>\n",
       "      <td>Bagging</td>\n",
       "      <td>0.000000</td>\n",
       "      <td>0.000000</td>\n",
       "      <td>0.000000</td>\n",
       "      <td>0.984601</td>\n",
       "    </tr>\n",
       "    <tr>\n",
       "      <th>5</th>\n",
       "      <td>GradientBoosting</td>\n",
       "      <td>0.529412</td>\n",
       "      <td>0.033582</td>\n",
       "      <td>0.063158</td>\n",
       "      <td>0.984659</td>\n",
       "    </tr>\n",
       "  </tbody>\n",
       "</table>\n",
       "</div>"
      ],
      "text/plain": [
       "                Method  precision_score  recall_score  f1_score  \\\n",
       "0        Decision Tree         0.164530      0.287313  0.209239   \n",
       "1                  XGB         0.135440      0.671642  0.225423   \n",
       "2  Logistic Regression         0.268293      0.205224  0.232558   \n",
       "3        Random Forest         0.253521      0.201493  0.224532   \n",
       "4              Bagging         0.000000      0.000000  0.000000   \n",
       "5     GradientBoosting         0.529412      0.033582  0.063158   \n",
       "\n",
       "   accuracy_score  \n",
       "0        0.966559  \n",
       "1        0.928924  \n",
       "2        0.979143  \n",
       "3        0.978568  \n",
       "4        0.984601  \n",
       "5        0.984659  "
      ]
     },
     "execution_count": 198,
     "metadata": {},
     "output_type": "execute_result"
    }
   ],
   "source": [
    "import pandas as pd\n",
    "d = {'precision_score': precision_score, \n",
    "     'recall_score': recall_score, \n",
    "     'f1_score': f1_score,\n",
    "     'accuracy_score' : accuracy_score\n",
    "    }\n",
    "df = pd.DataFrame(data=d)\n",
    "df.insert(loc=0, column='Method', value=['Decision Tree', 'XGB', 'Logistic Regression', 'Random Forest', 'Bagging', 'GradientBoosting'])\n",
    "df"
   ]
  },
  {
   "cell_type": "code",
   "execution_count": null,
   "metadata": {},
   "outputs": [],
   "source": []
  }
 ],
 "metadata": {
  "kernelspec": {
   "display_name": "Python 3",
   "language": "python",
   "name": "python3"
  },
  "language_info": {
   "codemirror_mode": {
    "name": "ipython",
    "version": 3
   },
   "file_extension": ".py",
   "mimetype": "text/x-python",
   "name": "python",
   "nbconvert_exporter": "python",
   "pygments_lexer": "ipython3",
   "version": "3.7.6"
  }
 },
 "nbformat": 4,
 "nbformat_minor": 4
}
